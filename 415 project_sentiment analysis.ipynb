{
 "cells": [
  {
   "cell_type": "code",
   "execution_count": 4,
   "metadata": {},
   "outputs": [
    {
     "data": {
      "text/html": [
       "<style type='text/css'>\n",
       ".datatable table.frame { margin-bottom: 0; }\n",
       ".datatable table.frame thead { border-bottom: none; }\n",
       ".datatable table.frame tr.coltypes td {  color: #FFFFFF;  line-height: 6px;  padding: 0 0.5em;}\n",
       ".datatable .bool    { background: #DDDD99; }\n",
       ".datatable .object  { background: #565656; }\n",
       ".datatable .int     { background: #5D9E5D; }\n",
       ".datatable .float   { background: #4040CC; }\n",
       ".datatable .str     { background: #CC4040; }\n",
       ".datatable .row_index {  background: var(--jp-border-color3);  border-right: 1px solid var(--jp-border-color0);  color: var(--jp-ui-font-color3);  font-size: 9px;}\n",
       ".datatable .frame tr.coltypes .row_index {  background: var(--jp-border-color0);}\n",
       ".datatable th:nth-child(2) { padding-left: 12px; }\n",
       ".datatable .hellipsis {  color: var(--jp-cell-editor-border-color);}\n",
       ".datatable .vellipsis {  background: var(--jp-layout-color0);  color: var(--jp-cell-editor-border-color);}\n",
       ".datatable .na {  color: var(--jp-cell-editor-border-color);  font-size: 80%;}\n",
       ".datatable .footer { font-size: 9px; }\n",
       ".datatable .frame_dimensions {  background: var(--jp-border-color3);  border-top: 1px solid var(--jp-border-color0);  color: var(--jp-ui-font-color3);  display: inline-block;  opacity: 0.6;  padding: 1px 10px 1px 5px;}\n",
       "</style>\n"
      ],
      "text/plain": [
       "<IPython.core.display.HTML object>"
      ]
     },
     "metadata": {},
     "output_type": "display_data"
    },
    {
     "name": "stderr",
     "output_type": "stream",
     "text": [
      "[nltk_data] Downloading package stopwords to /home/jovyan/nltk_data...\n",
      "[nltk_data]   Package stopwords is already up-to-date!\n"
     ]
    }
   ],
   "source": [
    "# Importing the Required Libraries\n",
    "\n",
    "import pandas as pd\n",
    "import numpy as np\n",
    "import seaborn as sns\n",
    "import matplotlib.pyplot as plt\n",
    "\n",
    "from nltk.corpus import stopwords\n",
    "from collections import Counter\n",
    "import warnings; warnings.simplefilter('ignore')\n",
    "import nltk\n",
    "import re\n",
    "import string\n",
    "from string import punctuation\n",
    "from nltk import ngrams\n",
    "from nltk.tokenize import word_tokenize \n",
    "from nltk.stem import SnowballStemmer\n",
    "\n",
    "from sklearn.preprocessing import LabelEncoder\n",
    "from xgboost import XGBClassifier\n",
    "from lightgbm import LGBMModel,LGBMClassifier, plot_importance\n",
    "\n",
    "from sklearn.metrics import confusion_matrix, accuracy_score, classification_report\n",
    "from sklearn.model_selection import train_test_split\n",
    "nltk.download('stopwords') \n",
    "\n",
    "stop_words = set(stopwords.words('english'))\n",
    "punctuation = punctuation + '\"\"“”’' + '∞θ÷α•à−β∅³π‘₹´°£€\\×™√²—–&'"
   ]
  },
  {
   "cell_type": "code",
   "execution_count": 5,
   "metadata": {},
   "outputs": [],
   "source": [
    "import scipy.sparse as sp\n",
    "from scipy.sparse import hstack\n",
    "from sklearn.feature_extraction.text import CountVectorizer\n",
    "from nltk.tokenize import word_tokenize\n",
    "from nltk.tokenize import sent_tokenize\n",
    "from nltk.stem import PorterStemmer \n",
    "from collections import defaultdict\n",
    "from sklearn.feature_extraction.text import TfidfTransformer\n",
    "from sklearn.feature_extraction.text import TfidfVectorizer\n",
    "from sklearn.model_selection import train_test_split\n",
    "from sklearn.linear_model import LogisticRegression\n",
    "from sklearn.metrics import f1_score\n",
    "import contractions \n",
    "import pyrsm as rsm"
   ]
  },
  {
   "cell_type": "code",
   "execution_count": 5,
   "metadata": {},
   "outputs": [
    {
     "name": "stderr",
     "output_type": "stream",
     "text": [
      "[nltk_data] Downloading package punkt to /home/jovyan/nltk_data...\n",
      "[nltk_data]   Package punkt is already up-to-date!\n"
     ]
    },
    {
     "data": {
      "text/plain": [
       "True"
      ]
     },
     "execution_count": 5,
     "metadata": {},
     "output_type": "execute_result"
    }
   ],
   "source": [
    "nltk.download('punkt') "
   ]
  },
  {
   "cell_type": "code",
   "execution_count": 6,
   "metadata": {},
   "outputs": [
    {
     "data": {
      "text/plain": [
       "'/mnt/c/Users/Yi/Dropbox/My PC (DESKTOP-ADBG3FN)/Desktop'"
      ]
     },
     "execution_count": 6,
     "metadata": {},
     "output_type": "execute_result"
    }
   ],
   "source": [
    "import os\n",
    "os. getcwd()\n"
   ]
  },
  {
   "cell_type": "code",
   "execution_count": 6,
   "metadata": {},
   "outputs": [],
   "source": [
    "#drug_train = pd.read_csv(\"/mnt/c/Users/ky/Desktop/UCSD/drugsComTrain_raw.csv\",encoding = 'latin-1')\n",
    "#drug_test = pd.read_csv(\"/mnt/c/Users/ky/Desktop/UCSD/drugsComTest_raw.csv\",encoding = 'latin-1')\n",
    "drug_train = pd.read_csv(\"/mnt/c/Users/Yi/Dropbox/My PC (DESKTOP-ADBG3FN)/Desktop/drugsComTrain_raw.csv/drugsComTrain_raw.csv\",encoding = 'latin-1')\n",
    "drug_test = pd.read_csv(\"/mnt/c/Users/Yi/Dropbox/My PC (DESKTOP-ADBG3FN)/Desktop/drugsComTest_raw.csv/drugsComTest_raw.csv\",encoding = 'latin-1')"
   ]
  },
  {
   "cell_type": "code",
   "execution_count": 7,
   "metadata": {},
   "outputs": [
    {
     "name": "stdout",
     "output_type": "stream",
     "text": [
      "The shape of the train set given is :  (161297, 7)\n"
     ]
    }
   ],
   "source": [
    "print (\"The shape of the train set given is : \", drug_train.shape)"
   ]
  },
  {
   "cell_type": "code",
   "execution_count": 8,
   "metadata": {},
   "outputs": [],
   "source": [
    "webmd = pd.read_csv(\"/mnt/c/Users/Yi/Dropbox/My PC (DESKTOP-ADBG3FN)/Desktop/webmd.csv\",encoding = 'latin-1')"
   ]
  },
  {
   "cell_type": "code",
   "execution_count": 9,
   "metadata": {},
   "outputs": [
    {
     "data": {
      "text/html": [
       "<div>\n",
       "<style scoped>\n",
       "    .dataframe tbody tr th:only-of-type {\n",
       "        vertical-align: middle;\n",
       "    }\n",
       "\n",
       "    .dataframe tbody tr th {\n",
       "        vertical-align: top;\n",
       "    }\n",
       "\n",
       "    .dataframe thead th {\n",
       "        text-align: right;\n",
       "    }\n",
       "</style>\n",
       "<table border=\"1\" class=\"dataframe\">\n",
       "  <thead>\n",
       "    <tr style=\"text-align: right;\">\n",
       "      <th></th>\n",
       "      <th>Age</th>\n",
       "      <th>Condition</th>\n",
       "      <th>Date</th>\n",
       "      <th>Drug</th>\n",
       "      <th>DrugId</th>\n",
       "      <th>EaseofUse</th>\n",
       "      <th>Effectiveness</th>\n",
       "      <th>Reviews</th>\n",
       "      <th>Satisfaction</th>\n",
       "      <th>Sex</th>\n",
       "      <th>Sides</th>\n",
       "      <th>UsefulCount</th>\n",
       "    </tr>\n",
       "  </thead>\n",
       "  <tbody>\n",
       "    <tr>\n",
       "      <th>0</th>\n",
       "      <td>75 or over</td>\n",
       "      <td>Stuffy Nose</td>\n",
       "      <td>9/21/2014</td>\n",
       "      <td>25dph-7.5peh</td>\n",
       "      <td>146724</td>\n",
       "      <td>5</td>\n",
       "      <td>5</td>\n",
       "      <td>I'm a retired physician and of all the meds I ...</td>\n",
       "      <td>5</td>\n",
       "      <td>Male</td>\n",
       "      <td>Drowsiness,  dizziness ,  dry mouth /nose/thro...</td>\n",
       "      <td>0</td>\n",
       "    </tr>\n",
       "    <tr>\n",
       "      <th>1</th>\n",
       "      <td>25-34</td>\n",
       "      <td>Cold Symptoms</td>\n",
       "      <td>1/13/2011</td>\n",
       "      <td>25dph-7.5peh</td>\n",
       "      <td>146724</td>\n",
       "      <td>5</td>\n",
       "      <td>5</td>\n",
       "      <td>cleared me right up even with my throat hurtin...</td>\n",
       "      <td>5</td>\n",
       "      <td>Female</td>\n",
       "      <td>Drowsiness,  dizziness ,  dry mouth /nose/thro...</td>\n",
       "      <td>1</td>\n",
       "    </tr>\n",
       "    <tr>\n",
       "      <th>2</th>\n",
       "      <td>65-74</td>\n",
       "      <td>Other</td>\n",
       "      <td>7/16/2012</td>\n",
       "      <td>warfarin (bulk) 100 % powder</td>\n",
       "      <td>144731</td>\n",
       "      <td>2</td>\n",
       "      <td>3</td>\n",
       "      <td>why did my PTINR go from a normal of 2.5 to ov...</td>\n",
       "      <td>3</td>\n",
       "      <td>Female</td>\n",
       "      <td></td>\n",
       "      <td>0</td>\n",
       "    </tr>\n",
       "    <tr>\n",
       "      <th>3</th>\n",
       "      <td>75 or over</td>\n",
       "      <td>Other</td>\n",
       "      <td>9/23/2010</td>\n",
       "      <td>warfarin (bulk) 100 % powder</td>\n",
       "      <td>144731</td>\n",
       "      <td>2</td>\n",
       "      <td>2</td>\n",
       "      <td>FALLING AND DON'T REALISE IT</td>\n",
       "      <td>1</td>\n",
       "      <td>Female</td>\n",
       "      <td></td>\n",
       "      <td>0</td>\n",
       "    </tr>\n",
       "    <tr>\n",
       "      <th>4</th>\n",
       "      <td>35-44</td>\n",
       "      <td>Other</td>\n",
       "      <td>1/6/2009</td>\n",
       "      <td>warfarin (bulk) 100 % powder</td>\n",
       "      <td>144731</td>\n",
       "      <td>1</td>\n",
       "      <td>1</td>\n",
       "      <td>My grandfather was prescribed this medication ...</td>\n",
       "      <td>1</td>\n",
       "      <td>Male</td>\n",
       "      <td></td>\n",
       "      <td>1</td>\n",
       "    </tr>\n",
       "    <tr>\n",
       "      <th>...</th>\n",
       "      <td>...</td>\n",
       "      <td>...</td>\n",
       "      <td>...</td>\n",
       "      <td>...</td>\n",
       "      <td>...</td>\n",
       "      <td>...</td>\n",
       "      <td>...</td>\n",
       "      <td>...</td>\n",
       "      <td>...</td>\n",
       "      <td>...</td>\n",
       "      <td>...</td>\n",
       "      <td>...</td>\n",
       "    </tr>\n",
       "    <tr>\n",
       "      <th>362801</th>\n",
       "      <td>55-64</td>\n",
       "      <td>Stop Smoking</td>\n",
       "      <td>11/14/2008</td>\n",
       "      <td>chantix</td>\n",
       "      <td>144470</td>\n",
       "      <td>5</td>\n",
       "      <td>5</td>\n",
       "      <td>I took the whole 12 weeks.I could have stopped...</td>\n",
       "      <td>5</td>\n",
       "      <td>Female</td>\n",
       "      <td>Nausea ,  headache ,  vomiting , drowsiness, g...</td>\n",
       "      <td>2</td>\n",
       "    </tr>\n",
       "    <tr>\n",
       "      <th>362802</th>\n",
       "      <td></td>\n",
       "      <td>Other</td>\n",
       "      <td>11/14/2008</td>\n",
       "      <td>chantix</td>\n",
       "      <td>144470</td>\n",
       "      <td>2</td>\n",
       "      <td>3</td>\n",
       "      <td>My dad strated taking Chantix about 1 month ag...</td>\n",
       "      <td>1</td>\n",
       "      <td></td>\n",
       "      <td>Nausea ,  headache ,  vomiting , drowsiness, g...</td>\n",
       "      <td>16</td>\n",
       "    </tr>\n",
       "    <tr>\n",
       "      <th>362803</th>\n",
       "      <td>25-34</td>\n",
       "      <td>Stop Smoking</td>\n",
       "      <td>11/13/2008</td>\n",
       "      <td>chantix</td>\n",
       "      <td>144470</td>\n",
       "      <td>2</td>\n",
       "      <td>4</td>\n",
       "      <td>As long as I was on chantix, I didn't smoke.  ...</td>\n",
       "      <td>2</td>\n",
       "      <td>Female</td>\n",
       "      <td>Nausea ,  headache ,  vomiting , drowsiness, g...</td>\n",
       "      <td>3</td>\n",
       "    </tr>\n",
       "    <tr>\n",
       "      <th>362804</th>\n",
       "      <td>55-64</td>\n",
       "      <td>Stop Smoking</td>\n",
       "      <td>11/13/2008</td>\n",
       "      <td>chantix</td>\n",
       "      <td>144470</td>\n",
       "      <td>5</td>\n",
       "      <td>5</td>\n",
       "      <td>Started this medication Oct 5th 2008. Haven't ...</td>\n",
       "      <td>5</td>\n",
       "      <td>Male</td>\n",
       "      <td>Nausea ,  headache ,  vomiting , drowsiness, g...</td>\n",
       "      <td>1</td>\n",
       "    </tr>\n",
       "    <tr>\n",
       "      <th>362805</th>\n",
       "      <td>45-54</td>\n",
       "      <td>Stop Smoking</td>\n",
       "      <td>11/12/2008</td>\n",
       "      <td>chantix</td>\n",
       "      <td>144470</td>\n",
       "      <td>4</td>\n",
       "      <td>5</td>\n",
       "      <td>One year ago, I tried Chantix and had to stop ...</td>\n",
       "      <td>5</td>\n",
       "      <td>Female</td>\n",
       "      <td>Nausea ,  headache ,  vomiting , drowsiness, g...</td>\n",
       "      <td>3</td>\n",
       "    </tr>\n",
       "  </tbody>\n",
       "</table>\n",
       "<p>362806 rows × 12 columns</p>\n",
       "</div>"
      ],
      "text/plain": [
       "               Age      Condition        Date                          Drug  \\\n",
       "0       75 or over    Stuffy Nose   9/21/2014                  25dph-7.5peh   \n",
       "1            25-34  Cold Symptoms   1/13/2011                  25dph-7.5peh   \n",
       "2            65-74          Other   7/16/2012  warfarin (bulk) 100 % powder   \n",
       "3       75 or over          Other   9/23/2010  warfarin (bulk) 100 % powder   \n",
       "4            35-44          Other    1/6/2009  warfarin (bulk) 100 % powder   \n",
       "...            ...            ...         ...                           ...   \n",
       "362801       55-64   Stop Smoking  11/14/2008                       chantix   \n",
       "362802                      Other  11/14/2008                       chantix   \n",
       "362803       25-34   Stop Smoking  11/13/2008                       chantix   \n",
       "362804       55-64   Stop Smoking  11/13/2008                       chantix   \n",
       "362805       45-54   Stop Smoking  11/12/2008                       chantix   \n",
       "\n",
       "        DrugId  EaseofUse  Effectiveness  \\\n",
       "0       146724          5              5   \n",
       "1       146724          5              5   \n",
       "2       144731          2              3   \n",
       "3       144731          2              2   \n",
       "4       144731          1              1   \n",
       "...        ...        ...            ...   \n",
       "362801  144470          5              5   \n",
       "362802  144470          2              3   \n",
       "362803  144470          2              4   \n",
       "362804  144470          5              5   \n",
       "362805  144470          4              5   \n",
       "\n",
       "                                                  Reviews  Satisfaction  \\\n",
       "0       I'm a retired physician and of all the meds I ...             5   \n",
       "1       cleared me right up even with my throat hurtin...             5   \n",
       "2       why did my PTINR go from a normal of 2.5 to ov...             3   \n",
       "3                            FALLING AND DON'T REALISE IT             1   \n",
       "4       My grandfather was prescribed this medication ...             1   \n",
       "...                                                   ...           ...   \n",
       "362801  I took the whole 12 weeks.I could have stopped...             5   \n",
       "362802  My dad strated taking Chantix about 1 month ag...             1   \n",
       "362803  As long as I was on chantix, I didn't smoke.  ...             2   \n",
       "362804  Started this medication Oct 5th 2008. Haven't ...             5   \n",
       "362805  One year ago, I tried Chantix and had to stop ...             5   \n",
       "\n",
       "           Sex                                              Sides  UsefulCount  \n",
       "0         Male  Drowsiness,  dizziness ,  dry mouth /nose/thro...            0  \n",
       "1       Female  Drowsiness,  dizziness ,  dry mouth /nose/thro...            1  \n",
       "2       Female                                                               0  \n",
       "3       Female                                                               0  \n",
       "4         Male                                                               1  \n",
       "...        ...                                                ...          ...  \n",
       "362801  Female  Nausea ,  headache ,  vomiting , drowsiness, g...            2  \n",
       "362802          Nausea ,  headache ,  vomiting , drowsiness, g...           16  \n",
       "362803  Female  Nausea ,  headache ,  vomiting , drowsiness, g...            3  \n",
       "362804    Male  Nausea ,  headache ,  vomiting , drowsiness, g...            1  \n",
       "362805  Female  Nausea ,  headache ,  vomiting , drowsiness, g...            3  \n",
       "\n",
       "[362806 rows x 12 columns]"
      ]
     },
     "execution_count": 9,
     "metadata": {},
     "output_type": "execute_result"
    }
   ],
   "source": [
    "webmd"
   ]
  },
  {
   "cell_type": "code",
   "execution_count": 102,
   "metadata": {},
   "outputs": [
    {
     "data": {
      "text/plain": [
       "Other                                                        49765\n",
       "Pain                                                         25232\n",
       "High Blood Pressure                                          23275\n",
       "Depression                                                   14509\n",
       "Birth Control                                                12253\n",
       "                                                             ...  \n",
       "Cystic Fibrosis                                                  1\n",
       "Infection due to the Candida Fungus                              1\n",
       "primary progressive multiple sclerosis                           1\n",
       "Pneumonia Acquired from Being Treated In a Hospital              1\n",
       "Complicated Abdominal Cavity Lining Clostridium Infection        1\n",
       "Name: Condition, Length: 1806, dtype: int64"
      ]
     },
     "execution_count": 102,
     "metadata": {},
     "output_type": "execute_result"
    }
   ],
   "source": [
    "webmd['Condition'].value_counts()"
   ]
  },
  {
   "cell_type": "code",
   "execution_count": 103,
   "metadata": {},
   "outputs": [
    {
     "data": {
      "text/plain": [
       "Birth Control                                  38436\n",
       "Depression                                     12164\n",
       "Pain                                            8245\n",
       "Anxiety                                         7812\n",
       "Acne                                            7435\n",
       "                                               ...  \n",
       "Yellow Fever Prophylaxis                           1\n",
       "Klinefelter Syndrome                               1\n",
       "Hydrocephalus                                      1\n",
       "61</span> users found this comment helpful.        1\n",
       "Hemorrhoids (pramoxine / zinc oxide)               1\n",
       "Name: condition, Length: 916, dtype: int64"
      ]
     },
     "execution_count": 103,
     "metadata": {},
     "output_type": "execute_result"
    }
   ],
   "source": [
    "fulldrug['condition'].value_counts()"
   ]
  },
  {
   "cell_type": "markdown",
   "metadata": {},
   "source": [
    "In this project we will use 3 methods:\n",
    "    \n",
    "    1. Rule-based methods:\n",
    "\n",
    "    TextBlob: Simple rule-based API for sentiment analysis\n",
    "    VADER: Parsimonious rule-based model for sentiment analysis of social media text.\n",
    "\n",
    "    2.Feature-based methods:\n",
    "\n",
    "    Bag of words(coLogistic Regression: Generalized linear model in Scikit-learn.\n",
    "\n",
    "    3.Embedding-based methods: \n",
    "    Word2Vec"
   ]
  },
  {
   "cell_type": "code",
   "execution_count": 10,
   "metadata": {},
   "outputs": [
    {
     "name": "stdout",
     "output_type": "stream",
     "text": [
      "3.8.5\n"
     ]
    }
   ],
   "source": [
    "from platform import python_version\n",
    "\n",
    "print(python_version())"
   ]
  },
  {
   "cell_type": "markdown",
   "metadata": {},
   "source": [
    "# 1. Exploration Data Analysis"
   ]
  },
  {
   "cell_type": "code",
   "execution_count": 8,
   "metadata": {},
   "outputs": [
    {
     "data": {
      "text/html": [
       "<div>\n",
       "<style scoped>\n",
       "    .dataframe tbody tr th:only-of-type {\n",
       "        vertical-align: middle;\n",
       "    }\n",
       "\n",
       "    .dataframe tbody tr th {\n",
       "        vertical-align: top;\n",
       "    }\n",
       "\n",
       "    .dataframe thead th {\n",
       "        text-align: right;\n",
       "    }\n",
       "</style>\n",
       "<table border=\"1\" class=\"dataframe\">\n",
       "  <thead>\n",
       "    <tr style=\"text-align: right;\">\n",
       "      <th></th>\n",
       "      <th>uniqueID</th>\n",
       "      <th>drugName</th>\n",
       "      <th>condition</th>\n",
       "      <th>review</th>\n",
       "      <th>rating</th>\n",
       "      <th>date</th>\n",
       "      <th>usefulCount</th>\n",
       "    </tr>\n",
       "  </thead>\n",
       "  <tbody>\n",
       "    <tr>\n",
       "      <th>0</th>\n",
       "      <td>206461</td>\n",
       "      <td>Valsartan</td>\n",
       "      <td>Left Ventricular Dysfunction</td>\n",
       "      <td>\"It has no side effect, I take it in combinati...</td>\n",
       "      <td>9</td>\n",
       "      <td>20-May-12</td>\n",
       "      <td>27</td>\n",
       "    </tr>\n",
       "    <tr>\n",
       "      <th>1</th>\n",
       "      <td>95260</td>\n",
       "      <td>Guanfacine</td>\n",
       "      <td>ADHD</td>\n",
       "      <td>\"My son is halfway through his fourth week of ...</td>\n",
       "      <td>8</td>\n",
       "      <td>27-Apr-10</td>\n",
       "      <td>192</td>\n",
       "    </tr>\n",
       "    <tr>\n",
       "      <th>2</th>\n",
       "      <td>92703</td>\n",
       "      <td>Lybrel</td>\n",
       "      <td>Birth Control</td>\n",
       "      <td>\"I used to take another oral contraceptive, wh...</td>\n",
       "      <td>5</td>\n",
       "      <td>14-Dec-09</td>\n",
       "      <td>17</td>\n",
       "    </tr>\n",
       "    <tr>\n",
       "      <th>3</th>\n",
       "      <td>138000</td>\n",
       "      <td>Ortho Evra</td>\n",
       "      <td>Birth Control</td>\n",
       "      <td>\"This is my first time using any form of birth...</td>\n",
       "      <td>8</td>\n",
       "      <td>3-Nov-15</td>\n",
       "      <td>10</td>\n",
       "    </tr>\n",
       "    <tr>\n",
       "      <th>4</th>\n",
       "      <td>35696</td>\n",
       "      <td>Buprenorphine / naloxone</td>\n",
       "      <td>Opiate Dependence</td>\n",
       "      <td>\"Suboxone has completely turned my life around...</td>\n",
       "      <td>9</td>\n",
       "      <td>27-Nov-16</td>\n",
       "      <td>37</td>\n",
       "    </tr>\n",
       "  </tbody>\n",
       "</table>\n",
       "</div>"
      ],
      "text/plain": [
       "   uniqueID                  drugName                     condition  \\\n",
       "0    206461                 Valsartan  Left Ventricular Dysfunction   \n",
       "1     95260                Guanfacine                          ADHD   \n",
       "2     92703                    Lybrel                 Birth Control   \n",
       "3    138000                Ortho Evra                 Birth Control   \n",
       "4     35696  Buprenorphine / naloxone             Opiate Dependence   \n",
       "\n",
       "                                              review  rating       date  \\\n",
       "0  \"It has no side effect, I take it in combinati...       9  20-May-12   \n",
       "1  \"My son is halfway through his fourth week of ...       8  27-Apr-10   \n",
       "2  \"I used to take another oral contraceptive, wh...       5  14-Dec-09   \n",
       "3  \"This is my first time using any form of birth...       8   3-Nov-15   \n",
       "4  \"Suboxone has completely turned my life around...       9  27-Nov-16   \n",
       "\n",
       "   usefulCount  \n",
       "0           27  \n",
       "1          192  \n",
       "2           17  \n",
       "3           10  \n",
       "4           37  "
      ]
     },
     "execution_count": 8,
     "metadata": {},
     "output_type": "execute_result"
    }
   ],
   "source": [
    "drug_train.head()"
   ]
  },
  {
   "cell_type": "markdown",
   "metadata": {},
   "source": [
    "These are additional explanations for variables.\n",
    "\n",
    "- drugName (categorical): name of drug\n",
    "- condition (categorical): name of condition\n",
    "- review (text): patient review\n",
    "- rating (numerical): 10 star patient rating\n",
    "- date (date): date of review entry\n",
    "- usefulCount (numerical): number of users who found review useful\n",
    "\n",
    "The structure of the data is that a patient with a unique ID purchases a drug that meets his condition and writes a review and rating for the drug he/she purchased on the date. Afterwards, if the others read that review and find it helpful, they will click usefulCount, which will add 1 for the variable."
   ]
  },
  {
   "cell_type": "code",
   "execution_count": 9,
   "metadata": {},
   "outputs": [
    {
     "data": {
      "text/plain": [
       "uniqueID        int64\n",
       "drugName       object\n",
       "condition      object\n",
       "review         object\n",
       "rating          int64\n",
       "date           object\n",
       "usefulCount     int64\n",
       "dtype: object"
      ]
     },
     "execution_count": 9,
     "metadata": {},
     "output_type": "execute_result"
    }
   ],
   "source": [
    "# Data types\n",
    "drug_train.dtypes"
   ]
  },
  {
   "cell_type": "markdown",
   "metadata": {},
   "source": [
    "#### we will merge the train and test to preprocess\n"
   ]
  },
  {
   "cell_type": "code",
   "execution_count": 11,
   "metadata": {},
   "outputs": [
    {
     "name": "stdout",
     "output_type": "stream",
     "text": [
      "(215063, 7)\n"
     ]
    },
    {
     "data": {
      "text/html": [
       "<div>\n",
       "<style scoped>\n",
       "    .dataframe tbody tr th:only-of-type {\n",
       "        vertical-align: middle;\n",
       "    }\n",
       "\n",
       "    .dataframe tbody tr th {\n",
       "        vertical-align: top;\n",
       "    }\n",
       "\n",
       "    .dataframe thead th {\n",
       "        text-align: right;\n",
       "    }\n",
       "</style>\n",
       "<table border=\"1\" class=\"dataframe\">\n",
       "  <thead>\n",
       "    <tr style=\"text-align: right;\">\n",
       "      <th></th>\n",
       "      <th>uniqueID</th>\n",
       "      <th>drugName</th>\n",
       "      <th>condition</th>\n",
       "      <th>review</th>\n",
       "      <th>rating</th>\n",
       "      <th>date</th>\n",
       "      <th>usefulCount</th>\n",
       "    </tr>\n",
       "  </thead>\n",
       "  <tbody>\n",
       "    <tr>\n",
       "      <th>0</th>\n",
       "      <td>206461</td>\n",
       "      <td>Valsartan</td>\n",
       "      <td>Left Ventricular Dysfunction</td>\n",
       "      <td>\"It has no side effect, I take it in combinati...</td>\n",
       "      <td>9</td>\n",
       "      <td>20-May-12</td>\n",
       "      <td>27</td>\n",
       "    </tr>\n",
       "    <tr>\n",
       "      <th>1</th>\n",
       "      <td>95260</td>\n",
       "      <td>Guanfacine</td>\n",
       "      <td>ADHD</td>\n",
       "      <td>\"My son is halfway through his fourth week of ...</td>\n",
       "      <td>8</td>\n",
       "      <td>27-Apr-10</td>\n",
       "      <td>192</td>\n",
       "    </tr>\n",
       "    <tr>\n",
       "      <th>2</th>\n",
       "      <td>92703</td>\n",
       "      <td>Lybrel</td>\n",
       "      <td>Birth Control</td>\n",
       "      <td>\"I used to take another oral contraceptive, wh...</td>\n",
       "      <td>5</td>\n",
       "      <td>14-Dec-09</td>\n",
       "      <td>17</td>\n",
       "    </tr>\n",
       "    <tr>\n",
       "      <th>3</th>\n",
       "      <td>138000</td>\n",
       "      <td>Ortho Evra</td>\n",
       "      <td>Birth Control</td>\n",
       "      <td>\"This is my first time using any form of birth...</td>\n",
       "      <td>8</td>\n",
       "      <td>3-Nov-15</td>\n",
       "      <td>10</td>\n",
       "    </tr>\n",
       "    <tr>\n",
       "      <th>4</th>\n",
       "      <td>35696</td>\n",
       "      <td>Buprenorphine / naloxone</td>\n",
       "      <td>Opiate Dependence</td>\n",
       "      <td>\"Suboxone has completely turned my life around...</td>\n",
       "      <td>9</td>\n",
       "      <td>27-Nov-16</td>\n",
       "      <td>37</td>\n",
       "    </tr>\n",
       "    <tr>\n",
       "      <th>5</th>\n",
       "      <td>155963</td>\n",
       "      <td>Cialis</td>\n",
       "      <td>Benign Prostatic Hyperplasia</td>\n",
       "      <td>\"2nd day on 5mg started to work with rock hard...</td>\n",
       "      <td>2</td>\n",
       "      <td>28-Nov-15</td>\n",
       "      <td>43</td>\n",
       "    </tr>\n",
       "    <tr>\n",
       "      <th>6</th>\n",
       "      <td>165907</td>\n",
       "      <td>Levonorgestrel</td>\n",
       "      <td>Emergency Contraception</td>\n",
       "      <td>\"He pulled out, but he cummed a bit in me. I t...</td>\n",
       "      <td>1</td>\n",
       "      <td>7-Mar-17</td>\n",
       "      <td>5</td>\n",
       "    </tr>\n",
       "    <tr>\n",
       "      <th>7</th>\n",
       "      <td>102654</td>\n",
       "      <td>Aripiprazole</td>\n",
       "      <td>Bipolar Disorde</td>\n",
       "      <td>\"Abilify changed my life. There is hope. I was...</td>\n",
       "      <td>10</td>\n",
       "      <td>14-Mar-15</td>\n",
       "      <td>32</td>\n",
       "    </tr>\n",
       "    <tr>\n",
       "      <th>8</th>\n",
       "      <td>74811</td>\n",
       "      <td>Keppra</td>\n",
       "      <td>Epilepsy</td>\n",
       "      <td>\" I Ve had  nothing but problems with the Kepp...</td>\n",
       "      <td>1</td>\n",
       "      <td>9-Aug-16</td>\n",
       "      <td>11</td>\n",
       "    </tr>\n",
       "    <tr>\n",
       "      <th>9</th>\n",
       "      <td>48928</td>\n",
       "      <td>Ethinyl estradiol / levonorgestrel</td>\n",
       "      <td>Birth Control</td>\n",
       "      <td>\"I had been on the pill for many years. When m...</td>\n",
       "      <td>8</td>\n",
       "      <td>8-Dec-16</td>\n",
       "      <td>1</td>\n",
       "    </tr>\n",
       "  </tbody>\n",
       "</table>\n",
       "</div>"
      ],
      "text/plain": [
       "   uniqueID                            drugName                     condition  \\\n",
       "0    206461                           Valsartan  Left Ventricular Dysfunction   \n",
       "1     95260                          Guanfacine                          ADHD   \n",
       "2     92703                              Lybrel                 Birth Control   \n",
       "3    138000                          Ortho Evra                 Birth Control   \n",
       "4     35696            Buprenorphine / naloxone             Opiate Dependence   \n",
       "5    155963                              Cialis  Benign Prostatic Hyperplasia   \n",
       "6    165907                      Levonorgestrel       Emergency Contraception   \n",
       "7    102654                        Aripiprazole               Bipolar Disorde   \n",
       "8     74811                              Keppra                      Epilepsy   \n",
       "9     48928  Ethinyl estradiol / levonorgestrel                 Birth Control   \n",
       "\n",
       "                                              review  rating       date  \\\n",
       "0  \"It has no side effect, I take it in combinati...       9  20-May-12   \n",
       "1  \"My son is halfway through his fourth week of ...       8  27-Apr-10   \n",
       "2  \"I used to take another oral contraceptive, wh...       5  14-Dec-09   \n",
       "3  \"This is my first time using any form of birth...       8   3-Nov-15   \n",
       "4  \"Suboxone has completely turned my life around...       9  27-Nov-16   \n",
       "5  \"2nd day on 5mg started to work with rock hard...       2  28-Nov-15   \n",
       "6  \"He pulled out, but he cummed a bit in me. I t...       1   7-Mar-17   \n",
       "7  \"Abilify changed my life. There is hope. I was...      10  14-Mar-15   \n",
       "8  \" I Ve had  nothing but problems with the Kepp...       1   9-Aug-16   \n",
       "9  \"I had been on the pill for many years. When m...       8   8-Dec-16   \n",
       "\n",
       "   usefulCount  \n",
       "0           27  \n",
       "1          192  \n",
       "2           17  \n",
       "3           10  \n",
       "4           37  \n",
       "5           43  \n",
       "6            5  \n",
       "7           32  \n",
       "8           11  \n",
       "9            1  "
      ]
     },
     "execution_count": 11,
     "metadata": {},
     "output_type": "execute_result"
    }
   ],
   "source": [
    "merge = [drug_train, drug_test]\n",
    "fulldrug = pd.concat(merge)\n",
    "\n",
    "print (fulldrug.shape)\n",
    "\n",
    "fulldrug.head(10)"
   ]
  },
  {
   "cell_type": "code",
   "execution_count": 109,
   "metadata": {},
   "outputs": [
    {
     "data": {
      "text/html": [
       "<div>\n",
       "<style scoped>\n",
       "    .dataframe tbody tr th:only-of-type {\n",
       "        vertical-align: middle;\n",
       "    }\n",
       "\n",
       "    .dataframe tbody tr th {\n",
       "        vertical-align: top;\n",
       "    }\n",
       "\n",
       "    .dataframe thead th {\n",
       "        text-align: right;\n",
       "    }\n",
       "</style>\n",
       "<table border=\"1\" class=\"dataframe\">\n",
       "  <thead>\n",
       "    <tr style=\"text-align: right;\">\n",
       "      <th></th>\n",
       "      <th>uniqueID</th>\n",
       "      <th>rating</th>\n",
       "      <th>usefulCount</th>\n",
       "    </tr>\n",
       "  </thead>\n",
       "  <tbody>\n",
       "    <tr>\n",
       "      <th>count</th>\n",
       "      <td>215063.000000</td>\n",
       "      <td>215063.000000</td>\n",
       "      <td>215063.000000</td>\n",
       "    </tr>\n",
       "    <tr>\n",
       "      <th>mean</th>\n",
       "      <td>116039.364814</td>\n",
       "      <td>6.990008</td>\n",
       "      <td>28.001004</td>\n",
       "    </tr>\n",
       "    <tr>\n",
       "      <th>std</th>\n",
       "      <td>67007.913366</td>\n",
       "      <td>3.275554</td>\n",
       "      <td>36.346069</td>\n",
       "    </tr>\n",
       "    <tr>\n",
       "      <th>min</th>\n",
       "      <td>0.000000</td>\n",
       "      <td>1.000000</td>\n",
       "      <td>0.000000</td>\n",
       "    </tr>\n",
       "    <tr>\n",
       "      <th>25%</th>\n",
       "      <td>58115.500000</td>\n",
       "      <td>5.000000</td>\n",
       "      <td>6.000000</td>\n",
       "    </tr>\n",
       "    <tr>\n",
       "      <th>50%</th>\n",
       "      <td>115867.000000</td>\n",
       "      <td>8.000000</td>\n",
       "      <td>16.000000</td>\n",
       "    </tr>\n",
       "    <tr>\n",
       "      <th>75%</th>\n",
       "      <td>173963.500000</td>\n",
       "      <td>10.000000</td>\n",
       "      <td>36.000000</td>\n",
       "    </tr>\n",
       "    <tr>\n",
       "      <th>max</th>\n",
       "      <td>232291.000000</td>\n",
       "      <td>10.000000</td>\n",
       "      <td>1291.000000</td>\n",
       "    </tr>\n",
       "  </tbody>\n",
       "</table>\n",
       "</div>"
      ],
      "text/plain": [
       "            uniqueID         rating    usefulCount\n",
       "count  215063.000000  215063.000000  215063.000000\n",
       "mean   116039.364814       6.990008      28.001004\n",
       "std     67007.913366       3.275554      36.346069\n",
       "min         0.000000       1.000000       0.000000\n",
       "25%     58115.500000       5.000000       6.000000\n",
       "50%    115867.000000       8.000000      16.000000\n",
       "75%    173963.500000      10.000000      36.000000\n",
       "max    232291.000000      10.000000    1291.000000"
      ]
     },
     "execution_count": 109,
     "metadata": {},
     "output_type": "execute_result"
    }
   ],
   "source": [
    "fulldrug.describe()"
   ]
  },
  {
   "cell_type": "code",
   "execution_count": 110,
   "metadata": {},
   "outputs": [
    {
     "name": "stdout",
     "output_type": "stream",
     "text": [
      "Null values in the dataset :  uniqueID          0\n",
      "drugName          0\n",
      "condition      1194\n",
      "review            0\n",
      "rating            0\n",
      "date              0\n",
      "usefulCount       0\n",
      "dtype: int64\n"
     ]
    }
   ],
   "source": [
    "# Null values\n",
    "print (\"Null values in the dataset : \", fulldrug.isnull().sum(axis = 0))"
   ]
  },
  {
   "cell_type": "markdown",
   "metadata": {},
   "source": [
    "- since the number is small, around 5%, we will drop the NA "
   ]
  },
  {
   "cell_type": "code",
   "execution_count": null,
   "metadata": {},
   "outputs": [],
   "source": []
  },
  {
   "cell_type": "markdown",
   "metadata": {},
   "source": [
    "##### lowercasing the column names so it will be easier for access "
   ]
  },
  {
   "cell_type": "code",
   "execution_count": 12,
   "metadata": {},
   "outputs": [],
   "source": [
    "fulldrug.columns = fulldrug.columns.str.lower()"
   ]
  },
  {
   "cell_type": "code",
   "execution_count": 13,
   "metadata": {},
   "outputs": [
    {
     "data": {
      "text/html": [
       "<div>\n",
       "<style scoped>\n",
       "    .dataframe tbody tr th:only-of-type {\n",
       "        vertical-align: middle;\n",
       "    }\n",
       "\n",
       "    .dataframe tbody tr th {\n",
       "        vertical-align: top;\n",
       "    }\n",
       "\n",
       "    .dataframe thead th {\n",
       "        text-align: right;\n",
       "    }\n",
       "</style>\n",
       "<table border=\"1\" class=\"dataframe\">\n",
       "  <thead>\n",
       "    <tr style=\"text-align: right;\">\n",
       "      <th></th>\n",
       "      <th>uniqueid</th>\n",
       "      <th>drugname</th>\n",
       "      <th>condition</th>\n",
       "      <th>review</th>\n",
       "      <th>rating</th>\n",
       "      <th>date</th>\n",
       "      <th>usefulcount</th>\n",
       "    </tr>\n",
       "  </thead>\n",
       "  <tbody>\n",
       "    <tr>\n",
       "      <th>0</th>\n",
       "      <td>0</td>\n",
       "      <td>Medroxyprogesterone</td>\n",
       "      <td>Abnormal Uterine Bleeding</td>\n",
       "      <td>\"Been on the depo injection since January 2015...</td>\n",
       "      <td>3</td>\n",
       "      <td>28-Oct-15</td>\n",
       "      <td>4</td>\n",
       "    </tr>\n",
       "    <tr>\n",
       "      <th>1</th>\n",
       "      <td>2</td>\n",
       "      <td>Medroxyprogesterone</td>\n",
       "      <td>Amenorrhea</td>\n",
       "      <td>\"I&amp;#039;m 21 years old and recently found out ...</td>\n",
       "      <td>10</td>\n",
       "      <td>27-Oct-15</td>\n",
       "      <td>11</td>\n",
       "    </tr>\n",
       "    <tr>\n",
       "      <th>2</th>\n",
       "      <td>3</td>\n",
       "      <td>Medroxyprogesterone</td>\n",
       "      <td>Abnormal Uterine Bleeding</td>\n",
       "      <td>\"I have been on the shot 11 years and until a ...</td>\n",
       "      <td>8</td>\n",
       "      <td>27-Oct-15</td>\n",
       "      <td>7</td>\n",
       "    </tr>\n",
       "    <tr>\n",
       "      <th>3</th>\n",
       "      <td>4</td>\n",
       "      <td>Medroxyprogesterone</td>\n",
       "      <td>Birth Control</td>\n",
       "      <td>\"Ive had four shots at this point. I was on bi...</td>\n",
       "      <td>9</td>\n",
       "      <td>26-Oct-15</td>\n",
       "      <td>12</td>\n",
       "    </tr>\n",
       "    <tr>\n",
       "      <th>4</th>\n",
       "      <td>5</td>\n",
       "      <td>Medroxyprogesterone</td>\n",
       "      <td>Abnormal Uterine Bleeding</td>\n",
       "      <td>\"I had a total of 3 shots. I got my first one ...</td>\n",
       "      <td>1</td>\n",
       "      <td>25-Oct-15</td>\n",
       "      <td>4</td>\n",
       "    </tr>\n",
       "    <tr>\n",
       "      <th>5</th>\n",
       "      <td>6</td>\n",
       "      <td>Medroxyprogesterone</td>\n",
       "      <td>Birth Control</td>\n",
       "      <td>\"This is a horrible shot!! I got my first shot...</td>\n",
       "      <td>1</td>\n",
       "      <td>24-Oct-15</td>\n",
       "      <td>3</td>\n",
       "    </tr>\n",
       "    <tr>\n",
       "      <th>6</th>\n",
       "      <td>7</td>\n",
       "      <td>Medroxyprogesterone</td>\n",
       "      <td>Abnormal Uterine Bleeding</td>\n",
       "      <td>\"I&amp;#039;m 18 and got this for heavy bleeding. ...</td>\n",
       "      <td>5</td>\n",
       "      <td>22-Oct-15</td>\n",
       "      <td>6</td>\n",
       "    </tr>\n",
       "    <tr>\n",
       "      <th>7</th>\n",
       "      <td>8</td>\n",
       "      <td>Medroxyprogesterone</td>\n",
       "      <td>Abnormal Uterine Bleeding</td>\n",
       "      <td>\"Im 19 and have been having heavy and painful ...</td>\n",
       "      <td>5</td>\n",
       "      <td>21-Oct-15</td>\n",
       "      <td>2</td>\n",
       "    </tr>\n",
       "    <tr>\n",
       "      <th>8</th>\n",
       "      <td>9</td>\n",
       "      <td>Medroxyprogesterone</td>\n",
       "      <td>Abnormal Uterine Bleeding</td>\n",
       "      <td>\"I&amp;#039;m a 30 year old woman. I got the shot ...</td>\n",
       "      <td>2</td>\n",
       "      <td>21-Oct-15</td>\n",
       "      <td>5</td>\n",
       "    </tr>\n",
       "    <tr>\n",
       "      <th>9</th>\n",
       "      <td>10</td>\n",
       "      <td>Medroxyprogesterone</td>\n",
       "      <td>Abnormal Uterine Bleeding</td>\n",
       "      <td>\"I&amp;#039;m 17 years old and I got shot in Augus...</td>\n",
       "      <td>7</td>\n",
       "      <td>20-Oct-15</td>\n",
       "      <td>2</td>\n",
       "    </tr>\n",
       "  </tbody>\n",
       "</table>\n",
       "</div>"
      ],
      "text/plain": [
       "   uniqueid             drugname                  condition  \\\n",
       "0         0  Medroxyprogesterone  Abnormal Uterine Bleeding   \n",
       "1         2  Medroxyprogesterone                 Amenorrhea   \n",
       "2         3  Medroxyprogesterone  Abnormal Uterine Bleeding   \n",
       "3         4  Medroxyprogesterone              Birth Control   \n",
       "4         5  Medroxyprogesterone  Abnormal Uterine Bleeding   \n",
       "5         6  Medroxyprogesterone              Birth Control   \n",
       "6         7  Medroxyprogesterone  Abnormal Uterine Bleeding   \n",
       "7         8  Medroxyprogesterone  Abnormal Uterine Bleeding   \n",
       "8         9  Medroxyprogesterone  Abnormal Uterine Bleeding   \n",
       "9        10  Medroxyprogesterone  Abnormal Uterine Bleeding   \n",
       "\n",
       "                                              review  rating       date  \\\n",
       "0  \"Been on the depo injection since January 2015...       3  28-Oct-15   \n",
       "1  \"I&#039;m 21 years old and recently found out ...      10  27-Oct-15   \n",
       "2  \"I have been on the shot 11 years and until a ...       8  27-Oct-15   \n",
       "3  \"Ive had four shots at this point. I was on bi...       9  26-Oct-15   \n",
       "4  \"I had a total of 3 shots. I got my first one ...       1  25-Oct-15   \n",
       "5  \"This is a horrible shot!! I got my first shot...       1  24-Oct-15   \n",
       "6  \"I&#039;m 18 and got this for heavy bleeding. ...       5  22-Oct-15   \n",
       "7  \"Im 19 and have been having heavy and painful ...       5  21-Oct-15   \n",
       "8  \"I&#039;m a 30 year old woman. I got the shot ...       2  21-Oct-15   \n",
       "9  \"I&#039;m 17 years old and I got shot in Augus...       7  20-Oct-15   \n",
       "\n",
       "   usefulcount  \n",
       "0            4  \n",
       "1           11  \n",
       "2            7  \n",
       "3           12  \n",
       "4            4  \n",
       "5            3  \n",
       "6            6  \n",
       "7            2  \n",
       "8            5  \n",
       "9            2  "
      ]
     },
     "execution_count": 13,
     "metadata": {},
     "output_type": "execute_result"
    }
   ],
   "source": [
    "# Sorting the dataframe\n",
    "fulldrug.sort_values(['uniqueid'], ascending = True, inplace = True)\n",
    "fulldrug.reset_index(drop = True, inplace = True)\n",
    "fulldrug.head(10)"
   ]
  },
  {
   "cell_type": "code",
   "execution_count": 12,
   "metadata": {},
   "outputs": [
    {
     "name": "stdout",
     "output_type": "stream",
     "text": [
      "total condition:  916 \n",
      "\n",
      "total drug:  3671 \n",
      "\n"
     ]
    }
   ],
   "source": [
    "# Total unique conditions in the dataset\n",
    "print (\"total condition: \",fulldrug['condition'].nunique(), \"\\n\")\n",
    "print (\"total drug: \", fulldrug['drugname'].nunique(), \"\\n\")"
   ]
  },
  {
   "cell_type": "markdown",
   "metadata": {},
   "source": [
    "#### see the distribution of drug rating "
   ]
  },
  {
   "cell_type": "code",
   "execution_count": 16,
   "metadata": {},
   "outputs": [
    {
     "data": {
      "text/plain": [
       "10    68005\n",
       "9     36708\n",
       "1     28918\n",
       "8     25046\n",
       "7     12547\n",
       "5     10723\n",
       "2      9265\n",
       "3      8718\n",
       "6      8462\n",
       "4      6671\n",
       "Name: rating, dtype: int64"
      ]
     },
     "execution_count": 16,
     "metadata": {},
     "output_type": "execute_result"
    }
   ],
   "source": [
    "fulldrug.rating.value_counts().sort_values(ascending = False)"
   ]
  },
  {
   "cell_type": "code",
   "execution_count": 17,
   "metadata": {},
   "outputs": [
    {
     "data": {
      "text/plain": [
       "Miconazole                            768\n",
       "Ethinyl estradiol / norethindrone     747\n",
       "Etonogestrel                          713\n",
       "Levonorgestrel                        515\n",
       "Nexplanon                             504\n",
       "Ethinyl estradiol / norgestimate      478\n",
       "Medroxyprogesterone                   450\n",
       "Depo-Provera                          417\n",
       "Tioconazole                           410\n",
       "Ethinyl estradiol / levonorgestrel    399\n",
       "Name: drugname, dtype: int64"
      ]
     },
     "execution_count": 17,
     "metadata": {},
     "output_type": "execute_result"
    }
   ],
   "source": [
    "# top 10 drugs with rating equals 1\n",
    "fulldrug.loc[fulldrug['rating'] == 1, :]['drugname'].value_counts().head(10)"
   ]
  },
  {
   "cell_type": "code",
   "execution_count": 18,
   "metadata": {},
   "outputs": [
    {
     "data": {
      "text/plain": [
       "Levonorgestrel                       1892\n",
       "Phentermine                          1085\n",
       "Etonogestrel                          870\n",
       "Varenicline                           666\n",
       "Ethinyl estradiol / norethindrone     618\n",
       "Escitalopram                          597\n",
       "Clonazepam                            590\n",
       "Alprazolam                            569\n",
       "Sertraline                            553\n",
       "Plan B                                527\n",
       "Name: drugname, dtype: int64"
      ]
     },
     "execution_count": 18,
     "metadata": {},
     "output_type": "execute_result"
    }
   ],
   "source": [
    "# top 10 drugs with rating equals 10\n",
    "\n",
    "fulldrug.loc[fulldrug['rating'] == 10, :]['drugname'].value_counts().head(10)"
   ]
  },
  {
   "cell_type": "code",
   "execution_count": 19,
   "metadata": {},
   "outputs": [
    {
     "data": {
      "text/plain": [
       "Etonogestrel                         598\n",
       "Levonorgestrel                       480\n",
       "Ethinyl estradiol / norethindrone    405\n",
       "Implanon                             327\n",
       "Ethinyl estradiol / norgestimate     278\n",
       "                                    ... \n",
       "Tazarotene                             1\n",
       "Efudex                                 1\n",
       "Ortho D                                1\n",
       "Olysio                                 1\n",
       "Tinzaparin                             1\n",
       "Name: drugname, Length: 1491, dtype: int64"
      ]
     },
     "execution_count": 19,
     "metadata": {},
     "output_type": "execute_result"
    }
   ],
   "source": [
    "# Number of users who found review useful = 0\n",
    "\n",
    "fulldrug.loc[fulldrug.usefulcount == 0, 'drugname'].value_counts()\n"
   ]
  },
  {
   "cell_type": "code",
   "execution_count": 14,
   "metadata": {},
   "outputs": [],
   "source": [
    "# Converting the date in to date time format \n",
    "\n",
    "fulldrug['date'] = pd.to_datetime(fulldrug['date'])"
   ]
  },
  {
   "cell_type": "markdown",
   "metadata": {},
   "source": [
    "## Exploratory Data Analysis\n"
   ]
  },
  {
   "cell_type": "code",
   "execution_count": 21,
   "metadata": {},
   "outputs": [
    {
     "data": {
      "text/plain": [
       "Text(0.5, 1.0, 'Top20 : The number of drugs per condition.')"
      ]
     },
     "execution_count": 21,
     "metadata": {},
     "output_type": "execute_result"
    },
    {
     "data": {
      "image/png": "[encoded data removed]",
      "text/plain": [
       "<Figure size 1008x432 with 1 Axes>"
      ]
     },
     "metadata": {
      "needs_background": "light"
     },
     "output_type": "display_data"
    }
   ],
   "source": [
    "# drugname and condition are closely related \n",
    "condition_dn = fulldrug.groupby(['condition'])['drugname'].nunique().sort_values(ascending=False)\n",
    "condition_dn[0:20].plot(kind=\"bar\", figsize = (14,6), fontsize = 10,color=\"green\")\n",
    "plt.xlabel(\"\", fontsize = 20)\n",
    "plt.ylabel(\"\", fontsize = 20)\n",
    "plt.title(\"Top20 : The number of drugs per condition.\", fontsize = 20)"
   ]
  },
  {
   "cell_type": "code",
   "execution_count": 22,
   "metadata": {},
   "outputs": [
    {
     "data": {
      "text/html": [
       "<div>\n",
       "<style scoped>\n",
       "    .dataframe tbody tr th:only-of-type {\n",
       "        vertical-align: middle;\n",
       "    }\n",
       "\n",
       "    .dataframe tbody tr th {\n",
       "        vertical-align: top;\n",
       "    }\n",
       "\n",
       "    .dataframe thead th {\n",
       "        text-align: right;\n",
       "    }\n",
       "</style>\n",
       "<table border=\"1\" class=\"dataframe\">\n",
       "  <thead>\n",
       "    <tr style=\"text-align: right;\">\n",
       "      <th></th>\n",
       "      <th>uniqueid</th>\n",
       "      <th>drugname</th>\n",
       "      <th>condition</th>\n",
       "      <th>review</th>\n",
       "      <th>rating</th>\n",
       "      <th>date</th>\n",
       "      <th>usefulcount</th>\n",
       "    </tr>\n",
       "  </thead>\n",
       "  <tbody>\n",
       "    <tr>\n",
       "      <th>3707</th>\n",
       "      <td>4010</td>\n",
       "      <td>Seroquel XR</td>\n",
       "      <td>3&lt;/span&gt; users found this comment helpful.</td>\n",
       "      <td>\"I was on Seroquel XR 350 mg for 3 years to tr...</td>\n",
       "      <td>9</td>\n",
       "      <td>2015-08-11</td>\n",
       "      <td>3</td>\n",
       "    </tr>\n",
       "    <tr>\n",
       "      <th>5944</th>\n",
       "      <td>6424</td>\n",
       "      <td>Ocella</td>\n",
       "      <td>3&lt;/span&gt; users found this comment helpful.</td>\n",
       "      <td>\"I have been taking Ocella for 7 months now. A...</td>\n",
       "      <td>6</td>\n",
       "      <td>2011-08-08</td>\n",
       "      <td>3</td>\n",
       "    </tr>\n",
       "    <tr>\n",
       "      <th>5952</th>\n",
       "      <td>6432</td>\n",
       "      <td>Ocella</td>\n",
       "      <td>3&lt;/span&gt; users found this comment helpful.</td>\n",
       "      <td>\"I&amp;#039;m 17 and have been on Ocella for about...</td>\n",
       "      <td>7</td>\n",
       "      <td>2010-10-20</td>\n",
       "      <td>3</td>\n",
       "    </tr>\n",
       "    <tr>\n",
       "      <th>5992</th>\n",
       "      <td>6475</td>\n",
       "      <td>Ocella</td>\n",
       "      <td>3&lt;/span&gt; users found this comment helpful.</td>\n",
       "      <td>\"I&amp;#039;m not going to say this is a bad produ...</td>\n",
       "      <td>3</td>\n",
       "      <td>2012-11-15</td>\n",
       "      <td>3</td>\n",
       "    </tr>\n",
       "    <tr>\n",
       "      <th>6310</th>\n",
       "      <td>6813</td>\n",
       "      <td>Beyaz</td>\n",
       "      <td>3&lt;/span&gt; users found this comment helpful.</td>\n",
       "      <td>\"Beyaz worked as far as making my menstrual cy...</td>\n",
       "      <td>3</td>\n",
       "      <td>2011-07-03</td>\n",
       "      <td>3</td>\n",
       "    </tr>\n",
       "  </tbody>\n",
       "</table>\n",
       "</div>"
      ],
      "text/plain": [
       "      uniqueid     drugname                                   condition  \\\n",
       "3707      4010  Seroquel XR  3</span> users found this comment helpful.   \n",
       "5944      6424       Ocella  3</span> users found this comment helpful.   \n",
       "5952      6432       Ocella  3</span> users found this comment helpful.   \n",
       "5992      6475       Ocella  3</span> users found this comment helpful.   \n",
       "6310      6813        Beyaz  3</span> users found this comment helpful.   \n",
       "\n",
       "                                                 review  rating       date  \\\n",
       "3707  \"I was on Seroquel XR 350 mg for 3 years to tr...       9 2015-08-11   \n",
       "5944  \"I have been taking Ocella for 7 months now. A...       6 2011-08-08   \n",
       "5952  \"I&#039;m 17 and have been on Ocella for about...       7 2010-10-20   \n",
       "5992  \"I&#039;m not going to say this is a bad produ...       3 2012-11-15   \n",
       "6310  \"Beyaz worked as far as making my menstrual cy...       3 2011-07-03   \n",
       "\n",
       "      usefulcount  \n",
       "3707            3  \n",
       "5944            3  \n",
       "5952            3  \n",
       "5992            3  \n",
       "6310            3  "
      ]
     },
     "execution_count": 22,
     "metadata": {},
     "output_type": "execute_result"
    }
   ],
   "source": [
    "fulldrug[fulldrug['condition']=='3</span> users found this comment helpful.'].head()\n"
   ]
  },
  {
   "cell_type": "code",
   "execution_count": 23,
   "metadata": {},
   "outputs": [
    {
     "data": {
      "image/png": "[encoded data removed]",
      "text/plain": [
       "<Figure size 1080x576 with 1 Axes>"
      ]
     },
     "metadata": {},
     "output_type": "display_data"
    }
   ],
   "source": [
    "sns.set(font_scale = 1.2, style = 'darkgrid')\n",
    "plt.rcParams['figure.figsize'] = [15, 8]\n",
    "\n",
    "rating = dict(fulldrug.loc[fulldrug.rating == 10, \"drugname\"].value_counts())\n",
    "drugname = list(rating.keys())\n",
    "drug_rating = list(rating.values())\n",
    "\n",
    "sns_rating = sns.barplot(x = drugname[0:20], y = drug_rating[0:20])\n",
    "\n",
    "sns_rating.set(title = 'Top 20 drugs with 10/10 rating', ylabel = 'Number of Ratings', xlabel = \"Drug Names\")\n",
    "plt.setp(sns_rating.get_xticklabels(), rotation=90);"
   ]
  },
  {
   "cell_type": "code",
   "execution_count": 24,
   "metadata": {},
   "outputs": [
    {
     "data": {
      "image/png": "[encoded data removed]",
      "text/plain": [
       "<Figure size 1080x576 with 1 Axes>"
      ]
     },
     "metadata": {},
     "output_type": "display_data"
    }
   ],
   "source": [
    "# This barplot shows the Top 20 drugs with the 1/10 rating\n",
    "\n",
    "# Setting the Parameter\n",
    "sns.set(font_scale = 1.2, style = 'whitegrid')\n",
    "plt.rcParams['figure.figsize'] = [15, 8]\n",
    "\n",
    "rating = dict(fulldrug.loc[fulldrug.rating == 1, \"drugname\"].value_counts())\n",
    "drugname = list(rating.keys())\n",
    "drug_rating = list(rating.values())\n",
    "\n",
    "sns_rating = sns.barplot(x = drugname[0:20], y = drug_rating[0:20], palette = 'winter')\n",
    "\n",
    "sns_rating.set(title = 'Top 20 drugs with 1/10 rating', ylabel = 'Number of Ratings', xlabel = \"Drug Names\")\n",
    "\n",
    "plt.setp(sns_rating.get_xticklabels(), rotation=90);"
   ]
  },
  {
   "cell_type": "code",
   "execution_count": 25,
   "metadata": {},
   "outputs": [
    {
     "data": {
      "image/png": "[encoded data removed]",
      "text/plain": [
       "<Figure size 1440x576 with 2 Axes>"
      ]
     },
     "metadata": {},
     "output_type": "display_data"
    }
   ],
   "source": [
    "# A countplot of the ratings so we can see the distribution of the ratings\n",
    "plt.rcParams['figure.figsize'] = [20,8]\n",
    "sns.set(font_scale = 1.4, style = 'whitegrid')\n",
    "fig, ax = plt.subplots(1, 2)\n",
    "\n",
    "sns_1 = sns.countplot(fulldrug['rating'], palette = 'spring', order = list(range(10, 0, -1)), ax = ax[0])\n",
    "sns_2 = sns.distplot(fulldrug['rating'], ax = ax[1])\n",
    "sns_1.set_title('Count of Ratings')\n",
    "sns_1.set_xlabel(\"Rating\")\n",
    "\n",
    "sns_2.set_title('Distribution of Ratings')\n",
    "sns_2.set_xlabel(\"Rating\");"
   ]
  },
  {
   "cell_type": "code",
   "execution_count": 26,
   "metadata": {},
   "outputs": [
    {
     "data": {
      "image/png": "[encoded data removed]",
      "text/plain": [
       "<Figure size 1440x576 with 1 Axes>"
      ]
     },
     "metadata": {},
     "output_type": "display_data"
    }
   ],
   "source": [
    "# This barplot shows the number of reviews per year\n",
    "df = fulldrug['date'].dt.year.value_counts()\n",
    "df = df.sort_index()\n",
    "\n",
    "sns_ = sns.barplot(x = df.index, y = df.values, color = 'mediumaquamarine')\n",
    "sns_.set_title(\"number of reviews per year\")\n",
    "sns_.set_title(\"Number of reviews per year\")\n",
    "sns_.set_xlabel(\"Year\");"
   ]
  },
  {
   "cell_type": "markdown",
   "metadata": {},
   "source": [
    "- we can see that the review started growing a lots since 2015"
   ]
  },
  {
   "cell_type": "code",
   "execution_count": 27,
   "metadata": {},
   "outputs": [
    {
     "data": {
      "image/png": "[encoded data removed]",
      "text/plain": [
       "<Figure size 864x504 with 1 Axes>"
      ]
     },
     "metadata": {},
     "output_type": "display_data"
    }
   ],
   "source": [
    "# This barplot shows the mean rating of the drugs per year\n",
    "\n",
    "mean_rating = dict(fulldrug.groupby(fulldrug['date'].dt.year)['rating'].mean())\n",
    "plt.rcParams['figure.figsize'] = [12, 7]\n",
    "sns.set(font_scale = 1.2, style = 'whitegrid')\n",
    "sns_ = sns.barplot(x = list(mean_rating.keys()), y = list(mean_rating.values()), color = 'purple');\n",
    "sns_.set_title(\"mean rating of the drugs per year\")\n",
    "sns_.set_xlabel(\"Year\")\n",
    "sns_.set_ylabel(\"Rating\");"
   ]
  },
  {
   "cell_type": "code",
   "execution_count": 28,
   "metadata": {},
   "outputs": [
    {
     "data": {
      "image/png": "[encoded data removed]",
      "text/plain": [
       "<Figure size 1296x504 with 1 Axes>"
      ]
     },
     "metadata": {},
     "output_type": "display_data"
    }
   ],
   "source": [
    "# This barplot show the top 10 conditions the people are suffering.\n",
    "\n",
    "cond = dict(fulldrug['condition'].value_counts())\n",
    "top_condition = list(cond.keys())[0:10]\n",
    "values = list(cond.values())[0:10]\n",
    "sns.set(style = 'darkgrid', font_scale = 1.3)\n",
    "plt.rcParams['figure.figsize'] = [18, 7]\n",
    "\n",
    "sns_ = sns.barplot(x = top_condition, y = values, palette = 'winter')\n",
    "sns_.set_title(\"Top 10 conditions\")\n",
    "sns_.set_xlabel(\"Conditions\")\n",
    "sns_.set_ylabel(\"Count\");"
   ]
  },
  {
   "cell_type": "code",
   "execution_count": 30,
   "metadata": {},
   "outputs": [
    {
     "data": {
      "text/plain": [
       "Text(0.5, 1.0, 'Distribution of usefulCount')"
      ]
     },
     "execution_count": 30,
     "metadata": {},
     "output_type": "execute_result"
    },
    {
     "data": {
      "image/png": "[encoded data removed]",
      "text/plain": [
       "<Figure size 1152x576 with 1 Axes>"
      ]
     },
     "metadata": {},
     "output_type": "display_data"
    }
   ],
   "source": [
    "# Distribution of usefulcount\n",
    "\n",
    "plt.figure(figsize=(16,8))\n",
    "\n",
    "sns.distplot(fulldrug['usefulcount'].value_counts())\n",
    "\n",
    "\n",
    "plt.xlabel('Number of users who found review useful')\n",
    "plt.ylabel('Dist')\n",
    "plt.title(\"Distribution of usefulCount\")\n"
   ]
  },
  {
   "cell_type": "markdown",
   "metadata": {},
   "source": [
    "## compare ngram to see which one is the best"
   ]
  },
  {
   "cell_type": "code",
   "execution_count": 15,
   "metadata": {},
   "outputs": [],
   "source": [
    "import operator\n",
    "from nltk import ngrams\n",
    "from bs4 import BeautifulSoup"
   ]
  },
  {
   "cell_type": "code",
   "execution_count": 16,
   "metadata": {},
   "outputs": [],
   "source": [
    "fulldrug['review_clean'] = [BeautifulSoup(text, 'html.parser').get_text() for text in fulldrug['review']]# delete the html\n",
    "fulldrug['review_clean'] = fulldrug['review_clean'].str.replace('[^a-zA-Z]', ' ')\n",
    "fulldrug['review_clean'] = fulldrug['review_clean'].str.replace(\"&#039;\", \"\")\n",
    "fulldrug['review_clean'] = fulldrug['review_clean'].str.replace(r'[^\\w\\d\\s]',' ')\n",
    "fulldrug['review_clean'] = fulldrug['review_clean'].str.replace(r'[^\\x00-\\x7F]+',' ')\n",
    "fulldrug['review_clean'] = fulldrug['review_clean'].apply(contractions.fix) # fix the contraction "
   ]
  },
  {
   "cell_type": "code",
   "execution_count": 16,
   "metadata": {},
   "outputs": [
    {
     "data": {
      "text/plain": [
       "0          Been on the depo injection since January     ...\n",
       "1          I m    years old and recently found out I mig...\n",
       "2          I have been on the shot    years and until a ...\n",
       "3          I have had four shots at this point  I was on...\n",
       "4          I had a total of   shots  I got my first one ...\n",
       "                                ...                        \n",
       "215058     Don t ever use this    When I was   years old...\n",
       "215059     For acute maxillary sinusitis  Day two  just ...\n",
       "215060     I took Amox Clav  x day for   days for my uri...\n",
       "215061     Day     serious pain and diminished hearing i...\n",
       "215062     Every time I have had a sinus infection and b...\n",
       "Name: review_clean, Length: 215063, dtype: object"
      ]
     },
     "execution_count": 16,
     "metadata": {},
     "output_type": "execute_result"
    }
   ],
   "source": [
    "fulldrug['review_clean']"
   ]
  },
  {
   "cell_type": "code",
   "execution_count": 35,
   "metadata": {},
   "outputs": [
    {
     "data": {
      "text/plain": [
       "0         \"Been on the depo injection since January 2015...\n",
       "1         \"I&#039;m 21 years old and recently found out ...\n",
       "2         \"I have been on the shot 11 years and until a ...\n",
       "3         \"Ive had four shots at this point. I was on bi...\n",
       "4         \"I had a total of 3 shots. I got my first one ...\n",
       "                                ...                        \n",
       "215058    \"Don&#039;t ever use this, \\r\\nWhen I was 4 ye...\n",
       "215059    \"For acute maxillary sinusitis. Day two, just ...\n",
       "215060    \"I took Amox Clav 2x day for 7 days for my uri...\n",
       "215061    \"Day 1 - serious pain and diminished hearing i...\n",
       "215062    \"Every time I have had a sinus infection and b...\n",
       "Name: review, Length: 215063, dtype: object"
      ]
     },
     "execution_count": 35,
     "metadata": {},
     "output_type": "execute_result"
    }
   ],
   "source": [
    "fulldrug['review']"
   ]
  },
  {
   "cell_type": "code",
   "execution_count": 36,
   "metadata": {},
   "outputs": [],
   "source": [
    "def prepare_ngrams(corpus, n):   #returns a counting dictionary \n",
    "    # collect C(w_{i-n+1}, .. w_i)\n",
    "    # collect C(w_{i-n+1}, .. w_{i-1})\n",
    "    counter = dict() \n",
    "    for sentence in corpus:\n",
    "        counter[''] = counter.get('', 0) + 1\n",
    "        tokens = sentence.split()\n",
    "        tokens = ['<s>'] + tokens + ['</s>']\n",
    "        # TODO: replace UNKNOWN tokens by <unk>\n",
    "        for i, token in enumerate(tokens):   #get a sliding window \n",
    "            combination = []  #will be the previous token \n",
    "            for j in range(i, max(0, i - n + 1) - 1, -1): #range the right hand side \n",
    "                combination.append(tokens[j])\n",
    "                key = ' '.join(combination)\n",
    "                counter[key] = counter.get(key, 0) + 1\n",
    "    return dict(sorted(counter.items(), key=operator.itemgetter(1),reverse=True))\n",
    "\n",
    "counter1_low = prepare_ngrams(fulldrug.loc[fulldrug.rating <= 4,'review_clean'], 1)\n",
    "counter1_neu = prepare_ngrams(fulldrug.loc[(fulldrug.rating > 4) & (fulldrug.rating <= 6),'review_clean'], 1)\n",
    "counter1_hig = prepare_ngrams(fulldrug.loc[fulldrug.rating >= 7,'review_clean'], 1)"
   ]
  },
  {
   "cell_type": "code",
   "execution_count": 37,
   "metadata": {},
   "outputs": [],
   "source": [
    "counter2_low = ngrams(nltk.word_tokenize(\"\".join(fulldrug.loc[fulldrug.rating <= 4,'review_clean'])), 2)\n",
    "counter2_neu = ngrams(nltk.word_tokenize(\"\".join(fulldrug.loc[(fulldrug.rating > 4) & (fulldrug.rating <= 6),'review_clean'])), 2)\n",
    "counter2_hig = ngrams(nltk.word_tokenize(\"\".join(fulldrug.loc[fulldrug.rating >= 7,'review_clean'])), 2)\n",
    "\n",
    "counter3_low = ngrams(nltk.word_tokenize(\"\".join(fulldrug.loc[fulldrug.rating <= 4,'review_clean'])), 3)\n",
    "counter3_neu = ngrams(nltk.word_tokenize(\"\".join(fulldrug.loc[(fulldrug.rating > 4) & (fulldrug.rating <= 6),'review_clean'])), 3)\n",
    "counter3_hig = ngrams(nltk.word_tokenize(\"\".join(fulldrug.loc[fulldrug.rating >= 7,'review_clean'])), 3)"
   ]
  },
  {
   "cell_type": "code",
   "execution_count": null,
   "metadata": {},
   "outputs": [],
   "source": []
  },
  {
   "cell_type": "code",
   "execution_count": 38,
   "metadata": {},
   "outputs": [],
   "source": [
    "frequency_low = Counter(counter1_low)\n",
    "frequency_med = Counter(counter1_neu)\n",
    "frequency_hig = Counter(counter1_hig)\n",
    "\n",
    "df_low = pd.DataFrame(frequency_low.most_common(20))\n",
    "df_med = pd.DataFrame(frequency_med.most_common(20))\n",
    "df_hig = pd.DataFrame(frequency_hig.most_common(20))"
   ]
  },
  {
   "cell_type": "code",
   "execution_count": 39,
   "metadata": {},
   "outputs": [
    {
     "data": {
      "image/png": "[encoded data removed]",
      "text/plain": [
       "<Figure size 1224x576 with 3 Axes>"
      ]
     },
     "metadata": {},
     "output_type": "display_data"
    }
   ],
   "source": [
    "# Barplot that shows the top 20 unigrams\n",
    "plt.rcParams['figure.figsize'] = [17,8]\n",
    "fig, ax = plt.subplots(1,3)\n",
    "sns.set(font_scale = 1, style = 'whitegrid')\n",
    "\n",
    "sns_low = sns.barplot(x = df_low[1], y = df_low[0], color = 'lightsteelblue', ax = ax[0])\n",
    "sns_med = sns.barplot(x = df_med[1], y = df_med[0], color = 'lightsteelblue', ax = ax[1])\n",
    "sns_hig = sns.barplot(x = df_hig[1], y = df_hig[0], color = 'lightsteelblue', ax = ax[2])\n",
    "\n",
    "# Setting axes labels\n",
    "sns_low.set_title(\"Top 20 unigrams according for rating <= 4\")\n",
    "sns_med.set_title(\"Top 20 unigrams according for rating > 4 and <= 6\")\n",
    "sns_hig.set_title(\"Top 20 unigrams according for rating >= 7\")\n",
    "sns_low.set_ylabel(\"Unigrams\");"
   ]
  },
  {
   "cell_type": "code",
   "execution_count": 40,
   "metadata": {},
   "outputs": [],
   "source": [
    "frequency_low_bi = Counter(counter2_low)\n",
    "frequency_med_bi = Counter(counter2_neu)\n",
    "frequency_hig_bi = Counter(counter2_hig)\n",
    "\n",
    "df_low_bi = pd.DataFrame(frequency_low_bi.most_common(20))\n",
    "df_med_bi = pd.DataFrame(frequency_med_bi.most_common(20))\n",
    "df_hig_bi = pd.DataFrame(frequency_hig_bi.most_common(20))"
   ]
  },
  {
   "cell_type": "code",
   "execution_count": 41,
   "metadata": {},
   "outputs": [
    {
     "data": {
      "image/png": "[encoded data removed]",
      "text/plain": [
       "<Figure size 1224x576 with 3 Axes>"
      ]
     },
     "metadata": {},
     "output_type": "display_data"
    }
   ],
   "source": [
    "# Barplot that shows the top 20 unigrams\n",
    "plt.rcParams['figure.figsize'] = [17,8]\n",
    "fig, ax = plt.subplots(1,3)\n",
    "sns.set(font_scale = 1, style = 'whitegrid')\n",
    "\n",
    "sns_low = sns.barplot(x = df_low_bi[1], y = df_low_bi[0], color = 'lightsteelblue', ax = ax[0])\n",
    "sns_med = sns.barplot(x = df_med_bi[1], y = df_med_bi[0], color = 'lightsteelblue', ax = ax[1])\n",
    "sns_hig = sns.barplot(x = df_hig_bi[1], y = df_hig_bi[0], color = 'lightsteelblue', ax = ax[2])\n",
    "\n",
    "# Setting axes labels\n",
    "sns_low.set_title(\"Top 20 unigrams according for rating <= 4\")\n",
    "sns_med.set_title(\"Top 20 unigrams according for rating > 4 and <= 6\")\n",
    "sns_hig.set_title(\"Top 20 unigrams according for rating >= 7\")\n",
    "sns_low.set_ylabel(\"Biigrams\");"
   ]
  },
  {
   "cell_type": "code",
   "execution_count": 42,
   "metadata": {},
   "outputs": [],
   "source": [
    "frequency_low_tri = Counter(counter3_low)\n",
    "frequency_med_tri = Counter(counter3_neu)\n",
    "frequency_hig_tri = Counter(counter3_hig)\n",
    "\n",
    "df_low_tri = pd.DataFrame(frequency_low_tri.most_common(20))\n",
    "df_med_tri = pd.DataFrame(frequency_med_tri.most_common(20))\n",
    "df_hig_tri = pd.DataFrame(frequency_hig_tri.most_common(20))"
   ]
  },
  {
   "cell_type": "code",
   "execution_count": 43,
   "metadata": {},
   "outputs": [
    {
     "data": {
      "image/png": "[encoded data removed]",
      "text/plain": [
       "<Figure size 1224x576 with 3 Axes>"
      ]
     },
     "metadata": {},
     "output_type": "display_data"
    }
   ],
   "source": [
    "# Barplot that shows the top 20 unigrams\n",
    "plt.rcParams['figure.figsize'] = [17,8]\n",
    "fig, ax = plt.subplots(1,3)\n",
    "sns.set(font_scale = 1, style = 'whitegrid')\n",
    "\n",
    "sns_low = sns.barplot(x = df_low_tri[1], y = df_low_tri[0], color = 'lightsteelblue', ax = ax[0])\n",
    "sns_med = sns.barplot(x = df_med_tri[1], y = df_med_tri[0], color = 'lightsteelblue', ax = ax[1])\n",
    "sns_hig = sns.barplot(x = df_hig_tri[1], y = df_hig_tri[0], color = 'lightsteelblue', ax = ax[2])\n",
    "\n",
    "# Setting axes labels\n",
    "sns_low.set_title(\"Top 20 Triigrams according for rating <= 4\")\n",
    "sns_med.set_title(\"Top 20 Triigrams according for rating > 4 and <= 6\")\n",
    "sns_hig.set_title(\"Top 20 Triigrams according for rating >= 7\")\n",
    "sns_low.set_ylabel(\"Triigrams\");"
   ]
  },
  {
   "cell_type": "markdown",
   "metadata": {},
   "source": [
    "### count the frequency of each words excluding the stopwords"
   ]
  },
  {
   "cell_type": "code",
   "execution_count": 44,
   "metadata": {},
   "outputs": [
    {
     "data": {
      "image/png": "[encoded data removed]",
      "text/plain": [
       "<Figure size 864x1080 with 1 Axes>"
      ]
     },
     "metadata": {},
     "output_type": "display_data"
    }
   ],
   "source": [
    "\n",
    "df_review = \" \".join(fulldrug['review_clean'])\n",
    "tokenize = word_tokenize(df_review)\n",
    "frequency = Counter(tokenize)\n",
    "df = pd.DataFrame(frequency.most_common(20))\n",
    "\n",
    "plt.rcParams['figure.figsize'] = [12, 15]\n",
    "sns.set(font_scale = 1.3, style = 'whitegrid')\n",
    "\n",
    "# plotting\n",
    "word_count = sns.barplot(x = df[1], y = df[0], color = 'darkcyan')\n",
    "word_count.set_title(\"Word Count Plot\")\n",
    "word_count.set_ylabel(\"Words\")\n",
    "word_count.set_xlabel(\"Count\");"
   ]
  },
  {
   "cell_type": "markdown",
   "metadata": {},
   "source": [
    "# 2. Data Preprocessing"
   ]
  },
  {
   "cell_type": "markdown",
   "metadata": {},
   "source": [
    "## preprocess metadata and sentiment\n",
    "\n",
    "- giving sentiment according to ratings\n",
    "- delete conditions with only a few drug(rare)\n",
    "- delete conditions that has </span users found this comment helpful' message in it"
   ]
  },
  {
   "cell_type": "code",
   "execution_count": 116,
   "metadata": {},
   "outputs": [
    {
     "name": "stdout",
     "output_type": "stream",
     "text": [
      "Null values in the dataset :  uniqueid           0\n",
      "drugname           0\n",
      "condition       1194\n",
      "review             0\n",
      "rating             0\n",
      "date               0\n",
      "usefulcount        0\n",
      "review_clean       0\n",
      "dtype: int64\n"
     ]
    }
   ],
   "source": [
    "# Null values\n",
    "print (\"Null values in the dataset : \", fulldrug.isnull().sum(axis = 0))"
   ]
  },
  {
   "cell_type": "code",
   "execution_count": 19,
   "metadata": {},
   "outputs": [],
   "source": [
    "# We drop all the missing values NA\n",
    "fulldrug = fulldrug.dropna(axis=0)"
   ]
  },
  {
   "cell_type": "code",
   "execution_count": 20,
   "metadata": {},
   "outputs": [],
   "source": [
    "df_condition = fulldrug.groupby(['condition'])['drugname'].nunique().sort_values()\n",
    "df_condition = pd.DataFrame(df_condition).reset_index()"
   ]
  },
  {
   "cell_type": "code",
   "execution_count": 21,
   "metadata": {},
   "outputs": [
    {
     "data": {
      "text/html": [
       "<div>\n",
       "<style scoped>\n",
       "    .dataframe tbody tr th:only-of-type {\n",
       "        vertical-align: middle;\n",
       "    }\n",
       "\n",
       "    .dataframe tbody tr th {\n",
       "        vertical-align: top;\n",
       "    }\n",
       "\n",
       "    .dataframe thead th {\n",
       "        text-align: right;\n",
       "    }\n",
       "</style>\n",
       "<table border=\"1\" class=\"dataframe\">\n",
       "  <thead>\n",
       "    <tr style=\"text-align: right;\">\n",
       "      <th></th>\n",
       "      <th>condition</th>\n",
       "      <th>drugname</th>\n",
       "    </tr>\n",
       "  </thead>\n",
       "  <tbody>\n",
       "    <tr>\n",
       "      <th>0</th>\n",
       "      <td>Epicondylitis, Tennis Elbow</td>\n",
       "      <td>1</td>\n",
       "    </tr>\n",
       "    <tr>\n",
       "      <th>1</th>\n",
       "      <td>Systemic Candidiasis</td>\n",
       "      <td>1</td>\n",
       "    </tr>\n",
       "    <tr>\n",
       "      <th>2</th>\n",
       "      <td>Diagnostic Bronchograms</td>\n",
       "      <td>1</td>\n",
       "    </tr>\n",
       "    <tr>\n",
       "      <th>3</th>\n",
       "      <td>Ectopic Pregnancy</td>\n",
       "      <td>1</td>\n",
       "    </tr>\n",
       "    <tr>\n",
       "      <th>4</th>\n",
       "      <td>Steroid Responsive Inflammatory Conditions</td>\n",
       "      <td>1</td>\n",
       "    </tr>\n",
       "    <tr>\n",
       "      <th>...</th>\n",
       "      <td>...</td>\n",
       "      <td>...</td>\n",
       "    </tr>\n",
       "    <tr>\n",
       "      <th>161</th>\n",
       "      <td>tic (mycophenolic acid)</td>\n",
       "      <td>1</td>\n",
       "    </tr>\n",
       "    <tr>\n",
       "      <th>162</th>\n",
       "      <td>61&lt;/span&gt; users found this comment helpful.</td>\n",
       "      <td>1</td>\n",
       "    </tr>\n",
       "    <tr>\n",
       "      <th>163</th>\n",
       "      <td>62&lt;/span&gt; users found this comment helpful.</td>\n",
       "      <td>1</td>\n",
       "    </tr>\n",
       "    <tr>\n",
       "      <th>164</th>\n",
       "      <td>ge HCT (amlodipine / hydrochlorothiazide / val...</td>\n",
       "      <td>1</td>\n",
       "    </tr>\n",
       "    <tr>\n",
       "      <th>165</th>\n",
       "      <td>Acute Otitis Externa</td>\n",
       "      <td>1</td>\n",
       "    </tr>\n",
       "  </tbody>\n",
       "</table>\n",
       "<p>166 rows × 2 columns</p>\n",
       "</div>"
      ],
      "text/plain": [
       "                                             condition  drugname\n",
       "0                          Epicondylitis, Tennis Elbow         1\n",
       "1                                 Systemic Candidiasis         1\n",
       "2                              Diagnostic Bronchograms         1\n",
       "3                                    Ectopic Pregnancy         1\n",
       "4           Steroid Responsive Inflammatory Conditions         1\n",
       "..                                                 ...       ...\n",
       "161                            tic (mycophenolic acid)         1\n",
       "162        61</span> users found this comment helpful.         1\n",
       "163        62</span> users found this comment helpful.         1\n",
       "164  ge HCT (amlodipine / hydrochlorothiazide / val...         1\n",
       "165                               Acute Otitis Externa         1\n",
       "\n",
       "[166 rows x 2 columns]"
      ]
     },
     "execution_count": 21,
     "metadata": {},
     "output_type": "execute_result"
    }
   ],
   "source": [
    "df_condition.loc[df_condition['drugname'] == 1]"
   ]
  },
  {
   "cell_type": "markdown",
   "metadata": {},
   "source": [
    "- there are 166 condition with only 1 drug"
   ]
  },
  {
   "cell_type": "code",
   "execution_count": 22,
   "metadata": {},
   "outputs": [],
   "source": [
    "one = df_condition.loc[df_condition['drugname'] == 1].index"
   ]
  },
  {
   "cell_type": "code",
   "execution_count": 23,
   "metadata": {},
   "outputs": [
    {
     "data": {
      "text/html": [
       "<div>\n",
       "<style scoped>\n",
       "    .dataframe tbody tr th:only-of-type {\n",
       "        vertical-align: middle;\n",
       "    }\n",
       "\n",
       "    .dataframe tbody tr th {\n",
       "        vertical-align: top;\n",
       "    }\n",
       "\n",
       "    .dataframe thead th {\n",
       "        text-align: right;\n",
       "    }\n",
       "</style>\n",
       "<table border=\"1\" class=\"dataframe\">\n",
       "  <thead>\n",
       "    <tr style=\"text-align: right;\">\n",
       "      <th></th>\n",
       "      <th>condition</th>\n",
       "      <th>drugname</th>\n",
       "    </tr>\n",
       "  </thead>\n",
       "  <tbody>\n",
       "    <tr>\n",
       "      <th>0</th>\n",
       "      <td>Epicondylitis, Tennis Elbow</td>\n",
       "      <td>1</td>\n",
       "    </tr>\n",
       "    <tr>\n",
       "      <th>1</th>\n",
       "      <td>Systemic Candidiasis</td>\n",
       "      <td>1</td>\n",
       "    </tr>\n",
       "    <tr>\n",
       "      <th>2</th>\n",
       "      <td>Diagnostic Bronchograms</td>\n",
       "      <td>1</td>\n",
       "    </tr>\n",
       "    <tr>\n",
       "      <th>3</th>\n",
       "      <td>Ectopic Pregnancy</td>\n",
       "      <td>1</td>\n",
       "    </tr>\n",
       "    <tr>\n",
       "      <th>4</th>\n",
       "      <td>Steroid Responsive Inflammatory Conditions</td>\n",
       "      <td>1</td>\n",
       "    </tr>\n",
       "    <tr>\n",
       "      <th>...</th>\n",
       "      <td>...</td>\n",
       "      <td>...</td>\n",
       "    </tr>\n",
       "    <tr>\n",
       "      <th>911</th>\n",
       "      <td>Acne</td>\n",
       "      <td>127</td>\n",
       "    </tr>\n",
       "    <tr>\n",
       "      <th>912</th>\n",
       "      <td>High Blood Pressure</td>\n",
       "      <td>146</td>\n",
       "    </tr>\n",
       "    <tr>\n",
       "      <th>913</th>\n",
       "      <td>Birth Control</td>\n",
       "      <td>181</td>\n",
       "    </tr>\n",
       "    <tr>\n",
       "      <th>914</th>\n",
       "      <td>Pain</td>\n",
       "      <td>219</td>\n",
       "    </tr>\n",
       "    <tr>\n",
       "      <th>915</th>\n",
       "      <td>Not Listed / Othe</td>\n",
       "      <td>253</td>\n",
       "    </tr>\n",
       "  </tbody>\n",
       "</table>\n",
       "<p>916 rows × 2 columns</p>\n",
       "</div>"
      ],
      "text/plain": [
       "                                      condition  drugname\n",
       "0                   Epicondylitis, Tennis Elbow         1\n",
       "1                          Systemic Candidiasis         1\n",
       "2                       Diagnostic Bronchograms         1\n",
       "3                             Ectopic Pregnancy         1\n",
       "4    Steroid Responsive Inflammatory Conditions         1\n",
       "..                                          ...       ...\n",
       "911                                        Acne       127\n",
       "912                         High Blood Pressure       146\n",
       "913                               Birth Control       181\n",
       "914                                        Pain       219\n",
       "915                           Not Listed / Othe       253\n",
       "\n",
       "[916 rows x 2 columns]"
      ]
     },
     "execution_count": 23,
     "metadata": {},
     "output_type": "execute_result"
    }
   ],
   "source": [
    "df_condition"
   ]
  },
  {
   "cell_type": "code",
   "execution_count": 24,
   "metadata": {},
   "outputs": [],
   "source": [
    "one = df_condition.loc[df_condition['drugname'] == 1].index\n",
    "\n",
    "df_condition.drop(one, inplace = True) "
   ]
  },
  {
   "cell_type": "code",
   "execution_count": 25,
   "metadata": {},
   "outputs": [
    {
     "data": {
      "text/html": [
       "<div>\n",
       "<style scoped>\n",
       "    .dataframe tbody tr th:only-of-type {\n",
       "        vertical-align: middle;\n",
       "    }\n",
       "\n",
       "    .dataframe tbody tr th {\n",
       "        vertical-align: top;\n",
       "    }\n",
       "\n",
       "    .dataframe thead th {\n",
       "        text-align: right;\n",
       "    }\n",
       "</style>\n",
       "<table border=\"1\" class=\"dataframe\">\n",
       "  <thead>\n",
       "    <tr style=\"text-align: right;\">\n",
       "      <th></th>\n",
       "      <th>condition</th>\n",
       "      <th>drugname</th>\n",
       "    </tr>\n",
       "  </thead>\n",
       "  <tbody>\n",
       "    <tr>\n",
       "      <th>166</th>\n",
       "      <td>74&lt;/span&gt; users found this comment helpful.</td>\n",
       "      <td>2</td>\n",
       "    </tr>\n",
       "    <tr>\n",
       "      <th>167</th>\n",
       "      <td>Hyperphosphatemia</td>\n",
       "      <td>2</td>\n",
       "    </tr>\n",
       "    <tr>\n",
       "      <th>168</th>\n",
       "      <td>Hyperparathyroidism Secondary to Renal Impairment</td>\n",
       "      <td>2</td>\n",
       "    </tr>\n",
       "    <tr>\n",
       "      <th>169</th>\n",
       "      <td>Hyperlipoproteinemia Type IV, Elevated VLDL</td>\n",
       "      <td>2</td>\n",
       "    </tr>\n",
       "    <tr>\n",
       "      <th>170</th>\n",
       "      <td>Schilling Test</td>\n",
       "      <td>2</td>\n",
       "    </tr>\n",
       "    <tr>\n",
       "      <th>...</th>\n",
       "      <td>...</td>\n",
       "      <td>...</td>\n",
       "    </tr>\n",
       "    <tr>\n",
       "      <th>911</th>\n",
       "      <td>Acne</td>\n",
       "      <td>127</td>\n",
       "    </tr>\n",
       "    <tr>\n",
       "      <th>912</th>\n",
       "      <td>High Blood Pressure</td>\n",
       "      <td>146</td>\n",
       "    </tr>\n",
       "    <tr>\n",
       "      <th>913</th>\n",
       "      <td>Birth Control</td>\n",
       "      <td>181</td>\n",
       "    </tr>\n",
       "    <tr>\n",
       "      <th>914</th>\n",
       "      <td>Pain</td>\n",
       "      <td>219</td>\n",
       "    </tr>\n",
       "    <tr>\n",
       "      <th>915</th>\n",
       "      <td>Not Listed / Othe</td>\n",
       "      <td>253</td>\n",
       "    </tr>\n",
       "  </tbody>\n",
       "</table>\n",
       "<p>750 rows × 2 columns</p>\n",
       "</div>"
      ],
      "text/plain": [
       "                                             condition  drugname\n",
       "166        74</span> users found this comment helpful.         2\n",
       "167                                  Hyperphosphatemia         2\n",
       "168  Hyperparathyroidism Secondary to Renal Impairment         2\n",
       "169        Hyperlipoproteinemia Type IV, Elevated VLDL         2\n",
       "170                                     Schilling Test         2\n",
       "..                                                 ...       ...\n",
       "911                                               Acne       127\n",
       "912                                High Blood Pressure       146\n",
       "913                                      Birth Control       181\n",
       "914                                               Pain       219\n",
       "915                                  Not Listed / Othe       253\n",
       "\n",
       "[750 rows x 2 columns]"
      ]
     },
     "execution_count": 25,
     "metadata": {},
     "output_type": "execute_result"
    }
   ],
   "source": [
    "df_condition"
   ]
  },
  {
   "cell_type": "code",
   "execution_count": 26,
   "metadata": {},
   "outputs": [],
   "source": [
    "fullidx = set(fulldrug.index)\n",
    "wanted = []\n",
    "for i,j in enumerate(fulldrug['condition']):\n",
    "    for c in list(df_condition['condition']):\n",
    "        if j == c:\n",
    "            wanted.append(i)\n",
    "            \n",
    "fulldrug = fulldrug.iloc[wanted].reset_index()\n",
    "del fulldrug['index']"
   ]
  },
  {
   "cell_type": "code",
   "execution_count": 27,
   "metadata": {},
   "outputs": [],
   "source": [
    "fullidx2 = set(fulldrug.index)\n",
    "dontwant = []\n",
    "for i,j in enumerate(fulldrug['condition']):\n",
    "        if '</span> users found this comment helpful' in j:\n",
    "            dontwant.append(i)\n",
    "           \n",
    "wanted2 = fullidx2.difference(set(dontwant))            \n",
    "fulldrug = fulldrug.iloc[list(wanted2)].reset_index()\n",
    "del fulldrug['index']"
   ]
  },
  {
   "cell_type": "code",
   "execution_count": 55,
   "metadata": {},
   "outputs": [
    {
     "data": {
      "text/html": [
       "<div>\n",
       "<style scoped>\n",
       "    .dataframe tbody tr th:only-of-type {\n",
       "        vertical-align: middle;\n",
       "    }\n",
       "\n",
       "    .dataframe tbody tr th {\n",
       "        vertical-align: top;\n",
       "    }\n",
       "\n",
       "    .dataframe thead th {\n",
       "        text-align: right;\n",
       "    }\n",
       "</style>\n",
       "<table border=\"1\" class=\"dataframe\">\n",
       "  <thead>\n",
       "    <tr style=\"text-align: right;\">\n",
       "      <th></th>\n",
       "      <th>uniqueid</th>\n",
       "      <th>drugname</th>\n",
       "      <th>condition</th>\n",
       "      <th>review</th>\n",
       "      <th>rating</th>\n",
       "      <th>date</th>\n",
       "      <th>usefulcount</th>\n",
       "      <th>review_clean</th>\n",
       "    </tr>\n",
       "  </thead>\n",
       "  <tbody>\n",
       "    <tr>\n",
       "      <th>0</th>\n",
       "      <td>0</td>\n",
       "      <td>Medroxyprogesterone</td>\n",
       "      <td>Abnormal Uterine Bleeding</td>\n",
       "      <td>\"Been on the depo injection since January 2015...</td>\n",
       "      <td>3</td>\n",
       "      <td>2015-10-28</td>\n",
       "      <td>4</td>\n",
       "      <td>Been on the depo injection since January     ...</td>\n",
       "    </tr>\n",
       "    <tr>\n",
       "      <th>1</th>\n",
       "      <td>2</td>\n",
       "      <td>Medroxyprogesterone</td>\n",
       "      <td>Amenorrhea</td>\n",
       "      <td>\"I&amp;#039;m 21 years old and recently found out ...</td>\n",
       "      <td>10</td>\n",
       "      <td>2015-10-27</td>\n",
       "      <td>11</td>\n",
       "      <td>I m    years old and recently found out I mig...</td>\n",
       "    </tr>\n",
       "    <tr>\n",
       "      <th>2</th>\n",
       "      <td>3</td>\n",
       "      <td>Medroxyprogesterone</td>\n",
       "      <td>Abnormal Uterine Bleeding</td>\n",
       "      <td>\"I have been on the shot 11 years and until a ...</td>\n",
       "      <td>8</td>\n",
       "      <td>2015-10-27</td>\n",
       "      <td>7</td>\n",
       "      <td>I have been on the shot    years and until a ...</td>\n",
       "    </tr>\n",
       "    <tr>\n",
       "      <th>3</th>\n",
       "      <td>4</td>\n",
       "      <td>Medroxyprogesterone</td>\n",
       "      <td>Birth Control</td>\n",
       "      <td>\"Ive had four shots at this point. I was on bi...</td>\n",
       "      <td>9</td>\n",
       "      <td>2015-10-26</td>\n",
       "      <td>12</td>\n",
       "      <td>I have had four shots at this point  I was on...</td>\n",
       "    </tr>\n",
       "    <tr>\n",
       "      <th>4</th>\n",
       "      <td>5</td>\n",
       "      <td>Medroxyprogesterone</td>\n",
       "      <td>Abnormal Uterine Bleeding</td>\n",
       "      <td>\"I had a total of 3 shots. I got my first one ...</td>\n",
       "      <td>1</td>\n",
       "      <td>2015-10-25</td>\n",
       "      <td>4</td>\n",
       "      <td>I had a total of   shots  I got my first one ...</td>\n",
       "    </tr>\n",
       "    <tr>\n",
       "      <th>...</th>\n",
       "      <td>...</td>\n",
       "      <td>...</td>\n",
       "      <td>...</td>\n",
       "      <td>...</td>\n",
       "      <td>...</td>\n",
       "      <td>...</td>\n",
       "      <td>...</td>\n",
       "      <td>...</td>\n",
       "    </tr>\n",
       "    <tr>\n",
       "      <th>212048</th>\n",
       "      <td>232286</td>\n",
       "      <td>Amoxicillin / clavulanate</td>\n",
       "      <td>Sinusitis</td>\n",
       "      <td>\"Don&amp;#039;t ever use this, \\r\\nWhen I was 4 ye...</td>\n",
       "      <td>1</td>\n",
       "      <td>2017-06-29</td>\n",
       "      <td>8</td>\n",
       "      <td>Don t ever use this    When I was   years old...</td>\n",
       "    </tr>\n",
       "    <tr>\n",
       "      <th>212049</th>\n",
       "      <td>232288</td>\n",
       "      <td>Amoxicillin / clavulanate</td>\n",
       "      <td>Sinusitis</td>\n",
       "      <td>\"For acute maxillary sinusitis. Day two, just ...</td>\n",
       "      <td>9</td>\n",
       "      <td>2017-06-21</td>\n",
       "      <td>14</td>\n",
       "      <td>For acute maxillary sinusitis  Day two  just ...</td>\n",
       "    </tr>\n",
       "    <tr>\n",
       "      <th>212050</th>\n",
       "      <td>232289</td>\n",
       "      <td>Amoxicillin / clavulanate</td>\n",
       "      <td>Urinary Tract Infection</td>\n",
       "      <td>\"I took Amox Clav 2x day for 7 days for my uri...</td>\n",
       "      <td>4</td>\n",
       "      <td>2017-06-17</td>\n",
       "      <td>2</td>\n",
       "      <td>I took Amox Clav  x day for   days for my uri...</td>\n",
       "    </tr>\n",
       "    <tr>\n",
       "      <th>212051</th>\n",
       "      <td>232290</td>\n",
       "      <td>Amoxicillin / clavulanate</td>\n",
       "      <td>Otitis Media</td>\n",
       "      <td>\"Day 1 - serious pain and diminished hearing i...</td>\n",
       "      <td>1</td>\n",
       "      <td>2017-06-16</td>\n",
       "      <td>0</td>\n",
       "      <td>Day     serious pain and diminished hearing i...</td>\n",
       "    </tr>\n",
       "    <tr>\n",
       "      <th>212052</th>\n",
       "      <td>232291</td>\n",
       "      <td>Amoxicillin / clavulanate</td>\n",
       "      <td>Sinusitis</td>\n",
       "      <td>\"Every time I have had a sinus infection and b...</td>\n",
       "      <td>10</td>\n",
       "      <td>2017-06-16</td>\n",
       "      <td>28</td>\n",
       "      <td>Every time I have had a sinus infection and b...</td>\n",
       "    </tr>\n",
       "  </tbody>\n",
       "</table>\n",
       "<p>212053 rows × 8 columns</p>\n",
       "</div>"
      ],
      "text/plain": [
       "        uniqueid                   drugname                  condition  \\\n",
       "0              0        Medroxyprogesterone  Abnormal Uterine Bleeding   \n",
       "1              2        Medroxyprogesterone                 Amenorrhea   \n",
       "2              3        Medroxyprogesterone  Abnormal Uterine Bleeding   \n",
       "3              4        Medroxyprogesterone              Birth Control   \n",
       "4              5        Medroxyprogesterone  Abnormal Uterine Bleeding   \n",
       "...          ...                        ...                        ...   \n",
       "212048    232286  Amoxicillin / clavulanate                  Sinusitis   \n",
       "212049    232288  Amoxicillin / clavulanate                  Sinusitis   \n",
       "212050    232289  Amoxicillin / clavulanate    Urinary Tract Infection   \n",
       "212051    232290  Amoxicillin / clavulanate               Otitis Media   \n",
       "212052    232291  Amoxicillin / clavulanate                  Sinusitis   \n",
       "\n",
       "                                                   review  rating       date  \\\n",
       "0       \"Been on the depo injection since January 2015...       3 2015-10-28   \n",
       "1       \"I&#039;m 21 years old and recently found out ...      10 2015-10-27   \n",
       "2       \"I have been on the shot 11 years and until a ...       8 2015-10-27   \n",
       "3       \"Ive had four shots at this point. I was on bi...       9 2015-10-26   \n",
       "4       \"I had a total of 3 shots. I got my first one ...       1 2015-10-25   \n",
       "...                                                   ...     ...        ...   \n",
       "212048  \"Don&#039;t ever use this, \\r\\nWhen I was 4 ye...       1 2017-06-29   \n",
       "212049  \"For acute maxillary sinusitis. Day two, just ...       9 2017-06-21   \n",
       "212050  \"I took Amox Clav 2x day for 7 days for my uri...       4 2017-06-17   \n",
       "212051  \"Day 1 - serious pain and diminished hearing i...       1 2017-06-16   \n",
       "212052  \"Every time I have had a sinus infection and b...      10 2017-06-16   \n",
       "\n",
       "        usefulcount                                       review_clean  \n",
       "0                 4   Been on the depo injection since January     ...  \n",
       "1                11   I m    years old and recently found out I mig...  \n",
       "2                 7   I have been on the shot    years and until a ...  \n",
       "3                12   I have had four shots at this point  I was on...  \n",
       "4                 4   I had a total of   shots  I got my first one ...  \n",
       "...             ...                                                ...  \n",
       "212048            8   Don t ever use this    When I was   years old...  \n",
       "212049           14   For acute maxillary sinusitis  Day two  just ...  \n",
       "212050            2   I took Amox Clav  x day for   days for my uri...  \n",
       "212051            0   Day     serious pain and diminished hearing i...  \n",
       "212052           28   Every time I have had a sinus infection and b...  \n",
       "\n",
       "[212053 rows x 8 columns]"
      ]
     },
     "execution_count": 55,
     "metadata": {},
     "output_type": "execute_result"
    }
   ],
   "source": [
    "fulldrug  # after conditionally delete some condition, we have 212053 rows left"
   ]
  },
  {
   "cell_type": "markdown",
   "metadata": {},
   "source": [
    "## preprocess review\n",
    "\n",
    "1. remove HTML tags\n",
    "2. Make a space\n",
    "3. remove stop words\n",
    "4. remove symbols and special characters\n",
    "5. tokenize\n",
    "6. stemming"
   ]
  },
  {
   "cell_type": "markdown",
   "metadata": {},
   "source": [
    "### 2.1 first set the sentiment "
   ]
  },
  {
   "cell_type": "code",
   "execution_count": 28,
   "metadata": {},
   "outputs": [],
   "source": [
    "# Giving the Sentiment according to the ratings\n",
    "fulldrug['sentiment_rate'] = fulldrug['rating'].apply(lambda x: 1 if x >= 7 else (-1 if x <= 4 else 0))"
   ]
  },
  {
   "cell_type": "markdown",
   "metadata": {},
   "source": [
    "## Preprocess by NLTK"
   ]
  },
  {
   "cell_type": "code",
   "execution_count": 57,
   "metadata": {},
   "outputs": [],
   "source": [
    "#did those earlier for n gram\n",
    "#fulldrug['review_clean'] = [BeautifulSoup(text, 'html.parser').get_text() for text in fulldrug['review']]# delete the html\n",
    "#fulldrug['review_clean'] = fulldrug['review_clean'].str.replace('[^a-zA-Z]', ' ') #Make a space after \n",
    "#fulldrug['review_clean'] = fulldrug['review_clean'].str.replace(\"&#039;\", \"\") # Replacing the repeating pattern of &#039;\n",
    "#fulldrug['review_clean'] = fulldrug['review_clean'].str.replace(r'[^\\w\\d\\s]',' ')  # Removing all the special Characters\n",
    "#fulldrug['review_clean'] = fulldrug['review_clean'].str.replace(r'[^\\x00-\\x7F]+',' ')  # Removing all the non ASCII characters\n",
    "#fulldrug['review_clean'] = fulldrug['review_clean'].apply(lambda x: [contractions.fix(word) for word in x.split()])  # fix the contraction "
   ]
  },
  {
   "cell_type": "code",
   "execution_count": null,
   "metadata": {},
   "outputs": [],
   "source": []
  },
  {
   "cell_type": "code",
   "execution_count": 29,
   "metadata": {},
   "outputs": [],
   "source": [
    "ps = PorterStemmer() \n",
    "stop = set(stopwords.words('english'))\n",
    "def pre_processing_by_nltk(doc, stemming = True, need_sent = False):\n",
    "    # step 1: get sentences\n",
    "    sentences = sent_tokenize(doc)\n",
    "    # step 2: get tokens\n",
    "    tokens = []\n",
    "    for sent in sentences:\n",
    "        words = word_tokenize(sent)\n",
    "        # step 3 : stemming\n",
    "        if stemming:\n",
    "            words = [ps.stem(word) for word in words]\n",
    "        if need_sent:\n",
    "            tokens.append(words)\n",
    "        else:\n",
    "            tokens += words\n",
    "    tokens2 = [w.lower() for w in tokens if w.isalpha()]  #remove all the punctuation  w not in punctuation\n",
    "    return [w for w in tokens2 if w not in stop]  #remove all the stopwords"
   ]
  },
  {
   "cell_type": "code",
   "execution_count": 30,
   "metadata": {},
   "outputs": [],
   "source": [
    "fulldrug['review_clean_nltk'] = fulldrug['review'].apply(pre_processing_by_nltk)"
   ]
  },
  {
   "cell_type": "code",
   "execution_count": 32,
   "metadata": {},
   "outputs": [],
   "source": [
    "fulldrug['day'] = fulldrug['date'].dt.day\n",
    "fulldrug['month'] = fulldrug['date'].dt.month\n",
    "fulldrug['year'] = fulldrug['date'].dt.year\n"
   ]
  },
  {
   "cell_type": "code",
   "execution_count": 33,
   "metadata": {},
   "outputs": [
    {
     "data": {
      "text/html": [
       "<div>\n",
       "<style scoped>\n",
       "    .dataframe tbody tr th:only-of-type {\n",
       "        vertical-align: middle;\n",
       "    }\n",
       "\n",
       "    .dataframe tbody tr th {\n",
       "        vertical-align: top;\n",
       "    }\n",
       "\n",
       "    .dataframe thead th {\n",
       "        text-align: right;\n",
       "    }\n",
       "</style>\n",
       "<table border=\"1\" class=\"dataframe\">\n",
       "  <thead>\n",
       "    <tr style=\"text-align: right;\">\n",
       "      <th></th>\n",
       "      <th>uniqueid</th>\n",
       "      <th>drugname</th>\n",
       "      <th>condition</th>\n",
       "      <th>review</th>\n",
       "      <th>rating</th>\n",
       "      <th>date</th>\n",
       "      <th>usefulcount</th>\n",
       "      <th>review_clean</th>\n",
       "      <th>sentiment_rate</th>\n",
       "      <th>review_clean_nltk</th>\n",
       "      <th>day</th>\n",
       "      <th>month</th>\n",
       "      <th>year</th>\n",
       "    </tr>\n",
       "  </thead>\n",
       "  <tbody>\n",
       "    <tr>\n",
       "      <th>0</th>\n",
       "      <td>0</td>\n",
       "      <td>Medroxyprogesterone</td>\n",
       "      <td>Abnormal Uterine Bleeding</td>\n",
       "      <td>\"Been on the depo injection since January 2015...</td>\n",
       "      <td>3</td>\n",
       "      <td>2015-10-28</td>\n",
       "      <td>4</td>\n",
       "      <td>Been on the depo injection since January     ...</td>\n",
       "      <td>-1</td>\n",
       "      <td>[depo, inject, sinc, januari, bleed, stop, ano...</td>\n",
       "      <td>28</td>\n",
       "      <td>10</td>\n",
       "      <td>2015</td>\n",
       "    </tr>\n",
       "    <tr>\n",
       "      <th>1</th>\n",
       "      <td>2</td>\n",
       "      <td>Medroxyprogesterone</td>\n",
       "      <td>Amenorrhea</td>\n",
       "      <td>\"I&amp;#039;m 21 years old and recently found out ...</td>\n",
       "      <td>10</td>\n",
       "      <td>2015-10-27</td>\n",
       "      <td>11</td>\n",
       "      <td>I m    years old and recently found out I mig...</td>\n",
       "      <td>1</td>\n",
       "      <td>[year, old, recent, found, might, pco, gotten,...</td>\n",
       "      <td>27</td>\n",
       "      <td>10</td>\n",
       "      <td>2015</td>\n",
       "    </tr>\n",
       "    <tr>\n",
       "      <th>2</th>\n",
       "      <td>3</td>\n",
       "      <td>Medroxyprogesterone</td>\n",
       "      <td>Abnormal Uterine Bleeding</td>\n",
       "      <td>\"I have been on the shot 11 years and until a ...</td>\n",
       "      <td>8</td>\n",
       "      <td>2015-10-27</td>\n",
       "      <td>7</td>\n",
       "      <td>I have been on the shot    years and until a ...</td>\n",
       "      <td>1</td>\n",
       "      <td>[shot, year, month, ago, never, period, even, ...</td>\n",
       "      <td>27</td>\n",
       "      <td>10</td>\n",
       "      <td>2015</td>\n",
       "    </tr>\n",
       "    <tr>\n",
       "      <th>3</th>\n",
       "      <td>4</td>\n",
       "      <td>Medroxyprogesterone</td>\n",
       "      <td>Birth Control</td>\n",
       "      <td>\"Ive had four shots at this point. I was on bi...</td>\n",
       "      <td>9</td>\n",
       "      <td>2015-10-26</td>\n",
       "      <td>12</td>\n",
       "      <td>I have had four shots at this point  I was on...</td>\n",
       "      <td>1</td>\n",
       "      <td>[ive, four, shot, thi, point, wa, birth, contr...</td>\n",
       "      <td>26</td>\n",
       "      <td>10</td>\n",
       "      <td>2015</td>\n",
       "    </tr>\n",
       "    <tr>\n",
       "      <th>4</th>\n",
       "      <td>5</td>\n",
       "      <td>Medroxyprogesterone</td>\n",
       "      <td>Abnormal Uterine Bleeding</td>\n",
       "      <td>\"I had a total of 3 shots. I got my first one ...</td>\n",
       "      <td>1</td>\n",
       "      <td>2015-10-25</td>\n",
       "      <td>4</td>\n",
       "      <td>I had a total of   shots  I got my first one ...</td>\n",
       "      <td>-1</td>\n",
       "      <td>[total, shot, got, first, one, befor, leav, ho...</td>\n",
       "      <td>25</td>\n",
       "      <td>10</td>\n",
       "      <td>2015</td>\n",
       "    </tr>\n",
       "  </tbody>\n",
       "</table>\n",
       "</div>"
      ],
      "text/plain": [
       "   uniqueid             drugname                  condition  \\\n",
       "0         0  Medroxyprogesterone  Abnormal Uterine Bleeding   \n",
       "1         2  Medroxyprogesterone                 Amenorrhea   \n",
       "2         3  Medroxyprogesterone  Abnormal Uterine Bleeding   \n",
       "3         4  Medroxyprogesterone              Birth Control   \n",
       "4         5  Medroxyprogesterone  Abnormal Uterine Bleeding   \n",
       "\n",
       "                                              review  rating       date  \\\n",
       "0  \"Been on the depo injection since January 2015...       3 2015-10-28   \n",
       "1  \"I&#039;m 21 years old and recently found out ...      10 2015-10-27   \n",
       "2  \"I have been on the shot 11 years and until a ...       8 2015-10-27   \n",
       "3  \"Ive had four shots at this point. I was on bi...       9 2015-10-26   \n",
       "4  \"I had a total of 3 shots. I got my first one ...       1 2015-10-25   \n",
       "\n",
       "   usefulcount                                       review_clean  \\\n",
       "0            4   Been on the depo injection since January     ...   \n",
       "1           11   I m    years old and recently found out I mig...   \n",
       "2            7   I have been on the shot    years and until a ...   \n",
       "3           12   I have had four shots at this point  I was on...   \n",
       "4            4   I had a total of   shots  I got my first one ...   \n",
       "\n",
       "   sentiment_rate                                  review_clean_nltk  day  \\\n",
       "0              -1  [depo, inject, sinc, januari, bleed, stop, ano...   28   \n",
       "1               1  [year, old, recent, found, might, pco, gotten,...   27   \n",
       "2               1  [shot, year, month, ago, never, period, even, ...   27   \n",
       "3               1  [ive, four, shot, thi, point, wa, birth, contr...   26   \n",
       "4              -1  [total, shot, got, first, one, befor, leav, ho...   25   \n",
       "\n",
       "   month  year  \n",
       "0     10  2015  \n",
       "1     10  2015  \n",
       "2     10  2015  \n",
       "3     10  2015  \n",
       "4     10  2015  "
      ]
     },
     "execution_count": 33,
     "metadata": {},
     "output_type": "execute_result"
    }
   ],
   "source": [
    "fulldrug.head()"
   ]
  },
  {
   "cell_type": "markdown",
   "metadata": {},
   "source": [
    "# 1. Rule-based methods(baseline): weakly supervised \n",
    "\n",
    "string matching:\n",
    "have these lexicon and try to look at whether this lexi in this word/term appear in this sentence or not, if it's there we do sth counting/ calculation and then find the most likely label\n",
    "Rule-based methods:\n",
    "\n",
    "    1.TextBlob: Simple rule-based API for sentiment analysis\n",
    "    2.VADER: Parsimonious rule-based model for sentiment analysis of social media text. \n",
    "    "
   ]
  },
  {
   "cell_type": "markdown",
   "metadata": {},
   "source": [
    "## TextBlob"
   ]
  },
  {
   "cell_type": "code",
   "execution_count": 62,
   "metadata": {},
   "outputs": [],
   "source": [
    "from textblob import TextBlob"
   ]
  },
  {
   "cell_type": "code",
   "execution_count": 63,
   "metadata": {},
   "outputs": [
    {
     "name": "stderr",
     "output_type": "stream",
     "text": [
      "100%|██████████| 212053/212053 [01:11<00:00, 2947.59it/s]\n"
     ]
    },
    {
     "data": {
      "text/html": [
       "<div>\n",
       "<style scoped>\n",
       "    .dataframe tbody tr th:only-of-type {\n",
       "        vertical-align: middle;\n",
       "    }\n",
       "\n",
       "    .dataframe tbody tr th {\n",
       "        vertical-align: top;\n",
       "    }\n",
       "\n",
       "    .dataframe thead th {\n",
       "        text-align: right;\n",
       "    }\n",
       "</style>\n",
       "<table border=\"1\" class=\"dataframe\">\n",
       "  <thead>\n",
       "    <tr style=\"text-align: right;\">\n",
       "      <th></th>\n",
       "      <th>uniqueid</th>\n",
       "      <th>drugname</th>\n",
       "      <th>condition</th>\n",
       "      <th>review</th>\n",
       "      <th>rating</th>\n",
       "      <th>date</th>\n",
       "      <th>usefulcount</th>\n",
       "      <th>review_clean</th>\n",
       "      <th>sentiment_rate</th>\n",
       "      <th>review_clean_nltk</th>\n",
       "      <th>day</th>\n",
       "      <th>month</th>\n",
       "      <th>year</th>\n",
       "      <th>TextBlob_Predict_Sentiment</th>\n",
       "    </tr>\n",
       "  </thead>\n",
       "  <tbody>\n",
       "    <tr>\n",
       "      <th>0</th>\n",
       "      <td>0</td>\n",
       "      <td>Medroxyprogesterone</td>\n",
       "      <td>Abnormal Uterine Bleeding</td>\n",
       "      <td>\"Been on the depo injection since January 2015...</td>\n",
       "      <td>3</td>\n",
       "      <td>2015-10-28</td>\n",
       "      <td>4</td>\n",
       "      <td>Been on the depo injection since January     ...</td>\n",
       "      <td>-1</td>\n",
       "      <td>[depo, inject, sinc, januari, bleed, stop, ano...</td>\n",
       "      <td>28</td>\n",
       "      <td>10</td>\n",
       "      <td>2015</td>\n",
       "      <td>-0.160714</td>\n",
       "    </tr>\n",
       "    <tr>\n",
       "      <th>1</th>\n",
       "      <td>2</td>\n",
       "      <td>Medroxyprogesterone</td>\n",
       "      <td>Amenorrhea</td>\n",
       "      <td>\"I&amp;#039;m 21 years old and recently found out ...</td>\n",
       "      <td>10</td>\n",
       "      <td>2015-10-27</td>\n",
       "      <td>11</td>\n",
       "      <td>I m    years old and recently found out I mig...</td>\n",
       "      <td>1</td>\n",
       "      <td>[year, old, recent, found, might, pco, gotten,...</td>\n",
       "      <td>27</td>\n",
       "      <td>10</td>\n",
       "      <td>2015</td>\n",
       "      <td>0.191299</td>\n",
       "    </tr>\n",
       "    <tr>\n",
       "      <th>2</th>\n",
       "      <td>3</td>\n",
       "      <td>Medroxyprogesterone</td>\n",
       "      <td>Abnormal Uterine Bleeding</td>\n",
       "      <td>\"I have been on the shot 11 years and until a ...</td>\n",
       "      <td>8</td>\n",
       "      <td>2015-10-27</td>\n",
       "      <td>7</td>\n",
       "      <td>I have been on the shot    years and until a ...</td>\n",
       "      <td>1</td>\n",
       "      <td>[shot, year, month, ago, never, period, even, ...</td>\n",
       "      <td>27</td>\n",
       "      <td>10</td>\n",
       "      <td>2015</td>\n",
       "      <td>-0.210000</td>\n",
       "    </tr>\n",
       "    <tr>\n",
       "      <th>3</th>\n",
       "      <td>4</td>\n",
       "      <td>Medroxyprogesterone</td>\n",
       "      <td>Birth Control</td>\n",
       "      <td>\"Ive had four shots at this point. I was on bi...</td>\n",
       "      <td>9</td>\n",
       "      <td>2015-10-26</td>\n",
       "      <td>12</td>\n",
       "      <td>I have had four shots at this point  I was on...</td>\n",
       "      <td>1</td>\n",
       "      <td>[ive, four, shot, thi, point, wa, birth, contr...</td>\n",
       "      <td>26</td>\n",
       "      <td>10</td>\n",
       "      <td>2015</td>\n",
       "      <td>-0.033333</td>\n",
       "    </tr>\n",
       "    <tr>\n",
       "      <th>4</th>\n",
       "      <td>5</td>\n",
       "      <td>Medroxyprogesterone</td>\n",
       "      <td>Abnormal Uterine Bleeding</td>\n",
       "      <td>\"I had a total of 3 shots. I got my first one ...</td>\n",
       "      <td>1</td>\n",
       "      <td>2015-10-25</td>\n",
       "      <td>4</td>\n",
       "      <td>I had a total of   shots  I got my first one ...</td>\n",
       "      <td>-1</td>\n",
       "      <td>[total, shot, got, first, one, befor, leav, ho...</td>\n",
       "      <td>25</td>\n",
       "      <td>10</td>\n",
       "      <td>2015</td>\n",
       "      <td>0.044872</td>\n",
       "    </tr>\n",
       "  </tbody>\n",
       "</table>\n",
       "</div>"
      ],
      "text/plain": [
       "   uniqueid             drugname                  condition  \\\n",
       "0         0  Medroxyprogesterone  Abnormal Uterine Bleeding   \n",
       "1         2  Medroxyprogesterone                 Amenorrhea   \n",
       "2         3  Medroxyprogesterone  Abnormal Uterine Bleeding   \n",
       "3         4  Medroxyprogesterone              Birth Control   \n",
       "4         5  Medroxyprogesterone  Abnormal Uterine Bleeding   \n",
       "\n",
       "                                              review  rating       date  \\\n",
       "0  \"Been on the depo injection since January 2015...       3 2015-10-28   \n",
       "1  \"I&#039;m 21 years old and recently found out ...      10 2015-10-27   \n",
       "2  \"I have been on the shot 11 years and until a ...       8 2015-10-27   \n",
       "3  \"Ive had four shots at this point. I was on bi...       9 2015-10-26   \n",
       "4  \"I had a total of 3 shots. I got my first one ...       1 2015-10-25   \n",
       "\n",
       "   usefulcount                                       review_clean  \\\n",
       "0            4   Been on the depo injection since January     ...   \n",
       "1           11   I m    years old and recently found out I mig...   \n",
       "2            7   I have been on the shot    years and until a ...   \n",
       "3           12   I have had four shots at this point  I was on...   \n",
       "4            4   I had a total of   shots  I got my first one ...   \n",
       "\n",
       "   sentiment_rate                                  review_clean_nltk  day  \\\n",
       "0              -1  [depo, inject, sinc, januari, bleed, stop, ano...   28   \n",
       "1               1  [year, old, recent, found, might, pco, gotten,...   27   \n",
       "2               1  [shot, year, month, ago, never, period, even, ...   27   \n",
       "3               1  [ive, four, shot, thi, point, wa, birth, contr...   26   \n",
       "4              -1  [total, shot, got, first, one, befor, leav, ho...   25   \n",
       "\n",
       "   month  year  TextBlob_Predict_Sentiment  \n",
       "0     10  2015                   -0.160714  \n",
       "1     10  2015                    0.191299  \n",
       "2     10  2015                   -0.210000  \n",
       "3     10  2015                   -0.033333  \n",
       "4     10  2015                    0.044872  "
      ]
     },
     "execution_count": 63,
     "metadata": {},
     "output_type": "execute_result"
    }
   ],
   "source": [
    "from textblob import TextBlob\n",
    "from tqdm import tqdm\n",
    "reviews = fulldrug['review_clean']\n",
    "\n",
    "TextBlob_Predict_Sentiment = []\n",
    "for review in tqdm(reviews):\n",
    "    blob = TextBlob(review)\n",
    "    TextBlob_Predict_Sentiment += [blob.sentiment.polarity]\n",
    "fulldrug[\"TextBlob_Predict_Sentiment\"] = TextBlob_Predict_Sentiment\n",
    "fulldrug.head()"
   ]
  },
  {
   "cell_type": "code",
   "execution_count": 64,
   "metadata": {},
   "outputs": [],
   "source": [
    "  def getAnalysis(score):\n",
    "    if score < 0:\n",
    "        return -1\n",
    "    elif score == 0:\n",
    "        return 0\n",
    "    else:\n",
    "        return 1\n",
    "\n",
    "fulldrug['textblob_predict'] = fulldrug[\"TextBlob_Predict_Sentiment\"].apply(getAnalysis)\n"
   ]
  },
  {
   "cell_type": "markdown",
   "metadata": {},
   "source": [
    "- accuracy for using TextBlob"
   ]
  },
  {
   "cell_type": "code",
   "execution_count": 65,
   "metadata": {},
   "outputs": [
    {
     "data": {
      "text/plain": [
       "0.6180860445266042"
      ]
     },
     "execution_count": 65,
     "metadata": {},
     "output_type": "execute_result"
    }
   ],
   "source": [
    "(fulldrug['textblob_predict'] == fulldrug['sentiment_rate']).mean()"
   ]
  },
  {
   "cell_type": "markdown",
   "metadata": {},
   "source": [
    "## VADER"
   ]
  },
  {
   "cell_type": "code",
   "execution_count": 182,
   "metadata": {},
   "outputs": [],
   "source": [
    "import vaderSentiment\n",
    "from vaderSentiment.vaderSentiment import SentimentIntensityAnalyzer\n",
    "\n",
    "sentiment_analyzer = SentimentIntensityAnalyzer()"
   ]
  },
  {
   "cell_type": "code",
   "execution_count": 183,
   "metadata": {},
   "outputs": [],
   "source": [
    "token_scores = sentiment_analyzer.lexicon\n",
    "#token_scores['adorned']"
   ]
  },
  {
   "cell_type": "code",
   "execution_count": 184,
   "metadata": {},
   "outputs": [],
   "source": [
    "#sentiment_analyzer.polarity_scores('I feel good')"
   ]
  },
  {
   "cell_type": "code",
   "execution_count": 185,
   "metadata": {},
   "outputs": [
    {
     "data": {
      "text/plain": [
       "-1"
      ]
     },
     "execution_count": 185,
     "metadata": {},
     "output_type": "execute_result"
    }
   ],
   "source": [
    "# this can be a way to generate prediction/psodo label(cuz we not sure if this is the correct label)\n",
    "def get_polorarity_label(sentence):\n",
    "    score = sentiment_analyzer.polarity_scores(sentence)\n",
    "    neg, neu, pos = score['neg'],score['neu'],score['pos']\n",
    "    if pos > neg and pos > neu:\n",
    "         return 1\n",
    "    if neg > pos and neg > neu:\n",
    "        return -1\n",
    "    return 0\n",
    "\n",
    "get_polorarity_label('hate you')"
   ]
  },
  {
   "cell_type": "code",
   "execution_count": 73,
   "metadata": {},
   "outputs": [],
   "source": [
    "## but there might be some domain specific lexicon that is not covered in this general dictionary cases that it cannot cover "
   ]
  },
  {
   "cell_type": "code",
   "execution_count": 74,
   "metadata": {},
   "outputs": [
    {
     "data": {
      "text/plain": [
       "{'neg': 0.058, 'neu': 0.849, 'pos': 0.093, 'compound': 0.631}"
      ]
     },
     "execution_count": 74,
     "metadata": {},
     "output_type": "execute_result"
    }
   ],
   "source": [
    "sentiment_analyzer.polarity_scores(' Been on the depo injection since January       had bleeding but it stopped after a while  When I had another injection in June  I didn t bleed for about a month  Started spotting mid July and since approx  August  st  I have been bleeding constantly  heavy enough to use pads and now it s almost November  I m sick of bleeding and forking out money for sanitary pads when I shouldn t be bleeding well not as long as I have been now  Currently awaiting an ultrasound to see what is happening  I would like to change my contraceptive but my doctor won t let me ')"
   ]
  },
  {
   "cell_type": "code",
   "execution_count": 75,
   "metadata": {},
   "outputs": [],
   "source": [
    "#can look at text + metadata instead of just text "
   ]
  },
  {
   "cell_type": "code",
   "execution_count": 76,
   "metadata": {},
   "outputs": [],
   "source": [
    "fulldrug['vader_predict'] = fulldrug['review_clean'].apply(get_polorarity_label)   "
   ]
  },
  {
   "cell_type": "markdown",
   "metadata": {},
   "source": [
    "- accuracy using Vader"
   ]
  },
  {
   "cell_type": "code",
   "execution_count": 77,
   "metadata": {},
   "outputs": [
    {
     "data": {
      "text/plain": [
       "' Been on the depo injection since January       had bleeding but it stopped after a while  When I had another injection in June  I didn t bleed for about a month  Started spotting mid July and since approx  August  st  I have been bleeding constantly  heavy enough to use pads and now it s almost November  I m sick of bleeding and forking out money for sanitary pads when I shouldn t be bleeding well not as long as I have been now  Currently awaiting an ultrasound to see what is happening  I would like to change my contraceptive but my doctor won t let me    '"
      ]
     },
     "execution_count": 77,
     "metadata": {},
     "output_type": "execute_result"
    }
   ],
   "source": [
    "fulldrug['review_clean'][0]"
   ]
  },
  {
   "cell_type": "code",
   "execution_count": 78,
   "metadata": {},
   "outputs": [
    {
     "data": {
      "text/plain": [
       "0.09906014062522105"
      ]
     },
     "execution_count": 78,
     "metadata": {},
     "output_type": "execute_result"
    }
   ],
   "source": [
    "(fulldrug['vader_predict']  == fulldrug['sentiment_rate']).mean()"
   ]
  },
  {
   "cell_type": "markdown",
   "metadata": {},
   "source": [
    "# Creating text features: feature engineering"
   ]
  },
  {
   "cell_type": "code",
   "execution_count": 34,
   "metadata": {},
   "outputs": [],
   "source": [
    "#Word count in each review\n",
    "fulldrug['count_word']=fulldrug[\"review_clean\"].apply(lambda x: len(str(x).split()))"
   ]
  },
  {
   "cell_type": "code",
   "execution_count": 35,
   "metadata": {},
   "outputs": [],
   "source": [
    "#Average length of word\n",
    "fulldrug[\"word_length\"] = fulldrug[\"review_clean\"].apply(lambda x: np.mean([len(w) for w in str(x).split()]))"
   ]
  },
  {
   "cell_type": "markdown",
   "metadata": {},
   "source": [
    "# 2.Feature-based methods:\n",
    "\n",
    "    using Logistic Regression"
   ]
  },
  {
   "cell_type": "markdown",
   "metadata": {},
   "source": [
    "### binary count vecotorize extract feature"
   ]
  },
  {
   "cell_type": "code",
   "execution_count": 151,
   "metadata": {},
   "outputs": [],
   "source": [
    "b = CountVectorizer(tokenizer = pre_processing_by_nltk,ngram_range=(2, 3),binary = True)  #this give u the count for all different words"
   ]
  },
  {
   "cell_type": "code",
   "execution_count": 152,
   "metadata": {},
   "outputs": [],
   "source": [
    "binary = b.fit_transform(fulldrug.review_clean)"
   ]
  },
  {
   "cell_type": "code",
   "execution_count": 153,
   "metadata": {},
   "outputs": [],
   "source": [
    "df_train, df_test = train_test_split(fulldrug, test_size=0.3, random_state=42) "
   ]
  },
  {
   "cell_type": "code",
   "execution_count": 154,
   "metadata": {},
   "outputs": [],
   "source": [
    "y_binary = fulldrug.sentiment_rate.values\n",
    "X_binary = binary\n",
    "\n",
    "X_train_binary, X_test_binary, y_train_binary, y_test_binary = train_test_split(X_binary, y_binary, test_size=0.3, random_state = 42)"
   ]
  },
  {
   "cell_type": "code",
   "execution_count": 155,
   "metadata": {},
   "outputs": [],
   "source": [
    "fpb1_classifier = LogisticRegression(C = 0.1).fit(X_train_binary,  y_train_binary)"
   ]
  },
  {
   "cell_type": "code",
   "execution_count": 156,
   "metadata": {},
   "outputs": [
    {
     "data": {
      "text/plain": [
       "0.8941146881287726"
      ]
     },
     "execution_count": 156,
     "metadata": {},
     "output_type": "execute_result"
    }
   ],
   "source": [
    "fpb1_classifier.score(X_test_binary, y_test_binary )"
   ]
  },
  {
   "cell_type": "code",
   "execution_count": 157,
   "metadata": {},
   "outputs": [
    {
     "data": {
      "text/plain": [
       "0.9884395400068716"
      ]
     },
     "execution_count": 157,
     "metadata": {},
     "output_type": "execute_result"
    }
   ],
   "source": [
    "fpb1_classifier.score(X_train_binary, y_train_binary )"
   ]
  },
  {
   "cell_type": "code",
   "execution_count": 188,
   "metadata": {},
   "outputs": [
    {
     "name": "stdout",
     "output_type": "stream",
     "text": [
      "              precision    recall  f1-score   support\n",
      "\n",
      "          -1       0.89      0.81      0.84     15988\n",
      "           0       0.96      0.53      0.68      5541\n",
      "           1       0.89      0.98      0.93     42087\n",
      "\n",
      "    accuracy                           0.89     63616\n",
      "   macro avg       0.91      0.77      0.82     63616\n",
      "weighted avg       0.90      0.89      0.89     63616\n",
      "\n"
     ]
    }
   ],
   "source": [
    "print(classification_report(y_test_binary,fpb1_classifier.predict(X_test_binary)))"
   ]
  },
  {
   "cell_type": "markdown",
   "metadata": {},
   "source": [
    "### TFIDF with logistic regression"
   ]
  },
  {
   "cell_type": "code",
   "execution_count": 86,
   "metadata": {},
   "outputs": [],
   "source": [
    "tfidf = TfidfVectorizer(strip_accents=None,lowercase=True,norm='l2',use_idf = True, smooth_idf=True,ngram_range=(1, 3))"
   ]
  },
  {
   "cell_type": "code",
   "execution_count": 87,
   "metadata": {},
   "outputs": [],
   "source": [
    "y3 = fulldrug.sentiment_rate.values\n",
    "X3 = tfidf.fit_transform(fulldrug.review_clean) \n",
    "X3_train, X3_test, y3_train, y3_test = train_test_split(X3, y3, test_size=0.3, random_state = 42)\n",
    "y3_train = y3_train.astype('int')\n",
    "y3_test =y3_test.astype('int')"
   ]
  },
  {
   "cell_type": "code",
   "execution_count": 143,
   "metadata": {},
   "outputs": [],
   "source": [
    "fpb3_classifier1 = LogisticRegression(C = 0.1).fit(X3_train, y3_train)"
   ]
  },
  {
   "cell_type": "code",
   "execution_count": 144,
   "metadata": {},
   "outputs": [],
   "source": [
    "y_pred3 = fpb3_classifier1.predict(X3_test)"
   ]
  },
  {
   "cell_type": "code",
   "execution_count": 145,
   "metadata": {},
   "outputs": [],
   "source": [
    "fpb3_accuracy1 = fpb3_classifier1.score(X3_test, y3_test)"
   ]
  },
  {
   "cell_type": "code",
   "execution_count": 146,
   "metadata": {},
   "outputs": [],
   "source": [
    "# fpb3_classifier1.auc(X3_test, y3_test)"
   ]
  },
  {
   "cell_type": "code",
   "execution_count": 147,
   "metadata": {},
   "outputs": [
    {
     "data": {
      "text/plain": [
       "0.7718812877263581"
      ]
     },
     "execution_count": 147,
     "metadata": {},
     "output_type": "execute_result"
    }
   ],
   "source": [
    "fpb3_classifier1.score(X3_test, y3_test)"
   ]
  },
  {
   "cell_type": "code",
   "execution_count": 148,
   "metadata": {},
   "outputs": [
    {
     "data": {
      "text/plain": [
       "0.7832750594528318"
      ]
     },
     "execution_count": 148,
     "metadata": {},
     "output_type": "execute_result"
    }
   ],
   "source": [
    "fpb3_classifier1.score(X3_train, y3_train)"
   ]
  },
  {
   "cell_type": "code",
   "execution_count": 187,
   "metadata": {},
   "outputs": [
    {
     "name": "stdout",
     "output_type": "stream",
     "text": [
      "              precision    recall  f1-score   support\n",
      "\n",
      "          -1       0.85      0.47      0.61     15988\n",
      "           0       0.00      0.00      0.00      5541\n",
      "           1       0.76      0.99      0.86     42087\n",
      "\n",
      "    accuracy                           0.77     63616\n",
      "   macro avg       0.54      0.49      0.49     63616\n",
      "weighted avg       0.72      0.77      0.72     63616\n",
      "\n"
     ]
    }
   ],
   "source": [
    "print(classification_report(y3_test,fpb3_classifier1.predict(X3_test)))"
   ]
  },
  {
   "cell_type": "markdown",
   "metadata": {},
   "source": [
    "### include meta data as features in the predictions "
   ]
  },
  {
   "cell_type": "code",
   "execution_count": 38,
   "metadata": {},
   "outputs": [],
   "source": [
    "# Label Encoding Drugname and Conditions\n",
    "label_encoder_feat = {}\n",
    "for feature in ['drugname', 'condition']:\n",
    "    label_encoder_feat[feature] = LabelEncoder()\n",
    "    fulldrug[feature] = label_encoder_feat[feature].fit_transform(fulldrug[feature])"
   ]
  },
  {
   "cell_type": "code",
   "execution_count": 39,
   "metadata": {},
   "outputs": [],
   "source": [
    "fulldrug['condition'] = fulldrug['condition'].astype(\"category\")"
   ]
  },
  {
   "cell_type": "code",
   "execution_count": 40,
   "metadata": {},
   "outputs": [],
   "source": [
    "fulldrug['drugname'] = fulldrug['drugname'].astype(\"category\")"
   ]
  },
  {
   "cell_type": "code",
   "execution_count": 41,
   "metadata": {},
   "outputs": [],
   "source": [
    "features = fulldrug[['condition', 'usefulcount', 'day', 'month', 'year','count_word']]"
   ]
  },
  {
   "cell_type": "code",
   "execution_count": 42,
   "metadata": {},
   "outputs": [],
   "source": [
    "df_train, df_test = train_test_split(fulldrug, test_size=0.33, random_state=42) "
   ]
  },
  {
   "cell_type": "code",
   "execution_count": 43,
   "metadata": {},
   "outputs": [],
   "source": [
    "X_review = X3"
   ]
  },
  {
   "cell_type": "code",
   "execution_count": 44,
   "metadata": {},
   "outputs": [],
   "source": [
    "import scipy.sparse as sp"
   ]
  },
  {
   "cell_type": "code",
   "execution_count": 45,
   "metadata": {},
   "outputs": [
    {
     "data": {
      "text/plain": [
       "86     38436\n",
       "177    12164\n",
       "468     8245\n",
       "47      7812\n",
       "6       7435\n",
       "       ...  \n",
       "547        2\n",
       "70         2\n",
       "72         2\n",
       "534        2\n",
       "68         2\n",
       "Name: condition, Length: 701, dtype: int64"
      ]
     },
     "execution_count": 45,
     "metadata": {},
     "output_type": "execute_result"
    }
   ],
   "source": [
    "fulldrug['condition'].value_counts()"
   ]
  },
  {
   "cell_type": "code",
   "execution_count": 46,
   "metadata": {},
   "outputs": [],
   "source": [
    "X_condition = sp.csr_matrix(pd.get_dummies(fulldrug.condition,drop_first = \"1.0\"))"
   ]
  },
  {
   "cell_type": "code",
   "execution_count": 47,
   "metadata": {},
   "outputs": [
    {
     "data": {
      "text/plain": [
       "2      8305\n",
       "3      8296\n",
       "0      8106\n",
       "4      8104\n",
       "1      7983\n",
       "       ... \n",
       "372       1\n",
       "437       1\n",
       "337       1\n",
       "476       1\n",
       "323       1\n",
       "Name: usefulcount, Length: 397, dtype: int64"
      ]
     },
     "execution_count": 47,
     "metadata": {},
     "output_type": "execute_result"
    }
   ],
   "source": [
    "fulldrug.usefulcount.value_counts()"
   ]
  },
  {
   "cell_type": "code",
   "execution_count": 68,
   "metadata": {},
   "outputs": [],
   "source": [
    "X_usefulcount = sp.csr_matrix(pd.get_dummies(fulldrug.usefulcount,drop_first = \"0\"))"
   ]
  },
  {
   "cell_type": "code",
   "execution_count": 49,
   "metadata": {},
   "outputs": [],
   "source": [
    "X_day = sp.csr_matrix(pd.get_dummies(fulldrug.day,drop_first = \"0\"))"
   ]
  },
  {
   "cell_type": "code",
   "execution_count": 50,
   "metadata": {},
   "outputs": [],
   "source": [
    "X_month = sp.csr_matrix(pd.get_dummies(fulldrug.month,drop_first = \"0\"))"
   ]
  },
  {
   "cell_type": "code",
   "execution_count": 51,
   "metadata": {},
   "outputs": [],
   "source": [
    "X_year = sp.csr_matrix(pd.get_dummies(fulldrug.year,drop_first = \"0\"))"
   ]
  },
  {
   "cell_type": "code",
   "execution_count": 52,
   "metadata": {},
   "outputs": [],
   "source": [
    "X_count_word = sp.csr_matrix(pd.get_dummies(fulldrug.count_word,drop_first = \"0\"))"
   ]
  },
  {
   "cell_type": "code",
   "execution_count": 71,
   "metadata": {},
   "outputs": [],
   "source": [
    "X = sp.hstack((X_review[:df_train.shape[0]],X_condition[:df_train.shape[0]],\n",
    "               X_usefulcount[:df_train.shape[0]],X_day[:df_train.shape[0]],\n",
    "              X_year[:df_train.shape[0]]))"
   ]
  },
  {
   "cell_type": "code",
   "execution_count": 54,
   "metadata": {},
   "outputs": [],
   "source": [
    "from sklearn.linear_model import LogisticRegressionCV"
   ]
  },
  {
   "cell_type": "code",
   "execution_count": 73,
   "metadata": {},
   "outputs": [],
   "source": [
    "X_test = sp.hstack((X_review[:df_test.shape[0]],X_condition[:df_test.shape[0]],\n",
    "               X_usefulcount[:df_test.shape[0]],X_day[:df_test.shape[0]],\n",
    "              X_year[:df_test.shape[0]]))"
   ]
  },
  {
   "cell_type": "code",
   "execution_count": 76,
   "metadata": {},
   "outputs": [],
   "source": [
    "clf_sum = LogisticRegression(C = 0.1).fit(X,df_train.sentiment_rate.values)"
   ]
  },
  {
   "cell_type": "code",
   "execution_count": 77,
   "metadata": {},
   "outputs": [
    {
     "data": {
      "text/plain": [
       "0.6618898469118424"
      ]
     },
     "execution_count": 77,
     "metadata": {},
     "output_type": "execute_result"
    }
   ],
   "source": [
    "clf_sum.score(X,df_train.sentiment_rate.values)"
   ]
  },
  {
   "cell_type": "code",
   "execution_count": 78,
   "metadata": {},
   "outputs": [
    {
     "data": {
      "text/plain": [
       "0.6614078710451856"
      ]
     },
     "execution_count": 78,
     "metadata": {},
     "output_type": "execute_result"
    }
   ],
   "source": [
    "clf_sum.score(X_test,df_test.sentiment_rate.values)"
   ]
  },
  {
   "cell_type": "code",
   "execution_count": null,
   "metadata": {},
   "outputs": [],
   "source": [
    "print(classification_report(y3_test, predictions))"
   ]
  },
  {
   "cell_type": "code",
   "execution_count": 88,
   "metadata": {},
   "outputs": [],
   "source": [
    "X_train, X_test, y_train, y_test = train_test_split(fulldrug['review_clean'], fulldrug['sentiment_rate'], test_size = 0.3, random_state = 42)"
   ]
  },
  {
   "cell_type": "code",
   "execution_count": null,
   "metadata": {},
   "outputs": [],
   "source": [
    "#rsm.or_ci(features_classifier) "
   ]
  },
  {
   "cell_type": "code",
   "execution_count": 90,
   "metadata": {},
   "outputs": [
    {
     "name": "stdout",
     "output_type": "stream",
     "text": [
      "              precision    recall  f1-score   support\n",
      "\n",
      "          -1       0.00      0.00      0.00         1\n",
      "           0       0.00      0.00      0.00         0\n",
      "           1       1.00      0.66      0.80     69977\n",
      "\n",
      "    accuracy                           0.66     69978\n",
      "   macro avg       0.33      0.22      0.27     69978\n",
      "weighted avg       1.00      0.66      0.80     69978\n",
      "\n"
     ]
    }
   ],
   "source": [
    "print(classification_report(clf_sum.predict(X_test),df_test.sentiment_rate.values))"
   ]
  },
  {
   "cell_type": "markdown",
   "metadata": {},
   "source": [
    "### TFIDF with gradiant boosting model LightGBM"
   ]
  },
  {
   "cell_type": "code",
   "execution_count": 89,
   "metadata": {},
   "outputs": [
    {
     "name": "stdout",
     "output_type": "stream",
     "text": [
      "The Train set size  (149708,)\n",
      "The Test set size  (64161,)\n"
     ]
    }
   ],
   "source": [
    "print (\"The Train set size \", X_train.shape)\n",
    "print (\"The Test set size \", X_test.shape)"
   ]
  },
  {
   "cell_type": "code",
   "execution_count": 92,
   "metadata": {},
   "outputs": [],
   "source": [
    "clf = LGBMClassifier(\n",
    "        n_estimators=100,\n",
    "        learning_rate=0.50,\n",
    "        num_leaves=30,\n",
    "        subsample=.9,\n",
    "        max_depth=5,\n",
    "        reg_alpha=.1,\n",
    "        reg_lambda=.1,\n",
    "        min_split_gain=.01,\n",
    "        min_child_weight=3,\n",
    "        silent=-1,\n",
    "        verbose=-1,\n",
    "        )"
   ]
  },
  {
   "cell_type": "code",
   "execution_count": 93,
   "metadata": {},
   "outputs": [],
   "source": [
    "model = clf.fit(X3_train, y3_train)"
   ]
  },
  {
   "cell_type": "code",
   "execution_count": 95,
   "metadata": {},
   "outputs": [
    {
     "name": "stdout",
     "output_type": "stream",
     "text": [
      "The Accuracy of the model is :  0.8124371227364185 \n",
      "\n",
      "The confusion Matrix is \n",
      "\n",
      "[[10782   291  4915]\n",
      " [ 1381   589  3571]\n",
      " [ 1565   209 40313]] \n",
      "\n",
      "              precision    recall  f1-score   support\n",
      "\n",
      "          -1       0.79      0.67      0.73     15988\n",
      "           0       0.54      0.11      0.18      5541\n",
      "           1       0.83      0.96      0.89     42087\n",
      "\n",
      "    accuracy                           0.81     63616\n",
      "   macro avg       0.72      0.58      0.60     63616\n",
      "weighted avg       0.79      0.81      0.78     63616\n",
      "\n"
     ]
    }
   ],
   "source": [
    "# Predictions\n",
    "predictions = clf.predict(X3_test)\n",
    "print (\"The Accuracy of the model is : \", accuracy_score(y3_test, predictions), '\\n')\n",
    "print (\"The confusion Matrix is \\n\")\n",
    "print (confusion_matrix(y3_test, predictions), '\\n')\n",
    "print (classification_report(y3_test, predictions))"
   ]
  },
  {
   "cell_type": "code",
   "execution_count": 96,
   "metadata": {},
   "outputs": [
    {
     "data": {
      "image/png": "[encoded data removed]",
      "text/plain": [
       "<Figure size 864x648 with 1 Axes>"
      ]
     },
     "metadata": {},
     "output_type": "display_data"
    }
   ],
   "source": [
    "# Feature Importance Plot with LGBM\n",
    "plt.rcParams['figure.figsize'] = [12, 9]\n",
    "sns.set(style = 'whitegrid', font_scale = 1.2)\n",
    "plot_importance(model);"
   ]
  },
  {
   "cell_type": "code",
   "execution_count": null,
   "metadata": {},
   "outputs": [],
   "source": [
    "import numpy as np\n",
    "import keras\n",
    "from keras.models import Sequential\n",
    "from keras.layers import Dense\n",
    "import random"
   ]
  },
  {
   "cell_type": "code",
   "execution_count": null,
   "metadata": {},
   "outputs": [],
   "source": [
    "from sklearn.preprocessing import StandardScaler\n",
    "from sklearn.inspection import permutation_importance\n",
    "scaler = StandardScaler()"
   ]
  },
  {
   "cell_type": "markdown",
   "metadata": {},
   "source": [
    "# 3. Word Embedding : fully supervised \n",
    "\n",
    "Word2Vec"
   ]
  },
  {
   "cell_type": "markdown",
   "metadata": {},
   "source": [
    "### Word2Vec with logistic regression"
   ]
  },
  {
   "cell_type": "code",
   "execution_count": 97,
   "metadata": {},
   "outputs": [],
   "source": [
    "from gensim.models.deprecated.doc2vec import LabeledSentence\n",
    "from tqdm import tqdm\n",
    "from gensim.models.fasttext import FastText\n",
    "from gensim.models import Word2Vec\n",
    "from keras.models import Sequential\n",
    "from keras.layers import Embedding\n",
    "from keras.layers.convolutional import Conv1D   \n",
    "from keras.layers import Convolution1D, MaxPooling1D,BatchNormalization\n",
    "from keras.layers import Dense, Dropout, Activation, Lambda, Input, merge, Flatten"
   ]
  },
  {
   "cell_type": "code",
   "execution_count": 98,
   "metadata": {},
   "outputs": [],
   "source": [
    "corpus = []\n",
    "for sentence in fulldrug.review_clean_nltk:\n",
    "    corpus.append(sentence)"
   ]
  },
  {
   "cell_type": "code",
   "execution_count": 99,
   "metadata": {},
   "outputs": [],
   "source": [
    "def labelize(reviews, label_type):\n",
    "    labelized = []\n",
    "    for i,v in tqdm(enumerate(reviews)):\n",
    "        label = '%s_%s'%(label_type,i)\n",
    "        labelized.append(LabeledSentence(v, [label]))\n",
    "    return labelized"
   ]
  },
  {
   "cell_type": "code",
   "execution_count": 100,
   "metadata": {},
   "outputs": [],
   "source": [
    "x_train_w2v, x_test_w2v, y_train_w2v, y_test_w2v = train_test_split(np.array(fulldrug.review_clean_nltk),\n",
    "                                                    np.array(fulldrug.sentiment_rate.values), test_size=0.2)"
   ]
  },
  {
   "cell_type": "code",
   "execution_count": 101,
   "metadata": {},
   "outputs": [
    {
     "name": "stderr",
     "output_type": "stream",
     "text": [
      "148437it [00:00, 337543.15it/s]\n",
      "63616it [00:00, 376478.29it/s]\n"
     ]
    }
   ],
   "source": [
    "x_train_w2v = labelize(x_train_w2v, 'TRAIN')\n",
    "x_test_w2v = labelize(x_test_w2v, 'TEST')"
   ]
  },
  {
   "cell_type": "code",
   "execution_count": 105,
   "metadata": {},
   "outputs": [],
   "source": [
    "def fit_w2v(docs, dimension):\n",
    "    phrases = []\n",
    "    for phrase in docs:\n",
    "        for p in phrase:\n",
    "            phrases.append(p)\n",
    "    w2v_model = Word2Vec(min_count=1,\n",
    "                         window=5,\n",
    "                         size=dimension,\n",
    "                         sample=6e-5, \n",
    "                         alpha=0.03,  \n",
    "                         negative=20)\n",
    "    print(f'# of phrases list for word2vec = {len(phrases)}')\n",
    "    w2v_model.build_vocab([x.words for x in tqdm(x_train_w2v)], progress_per=100000)\n",
    "    w2v_model.train([x.words for x in tqdm(x_train_w2v)],total_examples=w2v_model.corpus_count, epochs=50, report_delay=1)\n",
    "    print(f'traind: {w2v_model}')\n",
    "    return w2v_model"
   ]
  },
  {
   "cell_type": "code",
   "execution_count": 106,
   "metadata": {},
   "outputs": [
    {
     "name": "stderr",
     "output_type": "stream",
     "text": [
      "100%|██████████| 148437/148437 [00:00<00:00, 2018754.37it/s]"
     ]
    },
    {
     "name": "stdout",
     "output_type": "stream",
     "text": [
      "# of phrases list for word2vec = 9098569\n"
     ]
    },
    {
     "name": "stderr",
     "output_type": "stream",
     "text": [
      "\n",
      "100%|██████████| 148437/148437 [00:00<00:00, 2035891.60it/s]\n"
     ]
    },
    {
     "name": "stdout",
     "output_type": "stream",
     "text": [
      "traind: Word2Vec(vocab=30668, size=100, alpha=0.03)\n"
     ]
    }
   ],
   "source": [
    "w2v = fit_w2v(corpus, 200)"
   ]
  },
  {
   "cell_type": "code",
   "execution_count": 162,
   "metadata": {},
   "outputs": [],
   "source": [
    "clf_w2v = LogisticRegression(C = 0.1).fit(train_vecs_w2v, y_train_w2v)"
   ]
  },
  {
   "cell_type": "code",
   "execution_count": 163,
   "metadata": {},
   "outputs": [
    {
     "name": "stdout",
     "output_type": "stream",
     "text": [
      "              precision    recall  f1-score   support\n",
      "\n",
      "          -1       0.51      0.65      0.57     12364\n",
      "           0       0.00      0.25      0.01       110\n",
      "           1       0.93      0.77      0.84     51142\n",
      "\n",
      "    accuracy                           0.74     63616\n",
      "   macro avg       0.48      0.55      0.47     63616\n",
      "weighted avg       0.85      0.74      0.79     63616\n",
      "\n"
     ]
    }
   ],
   "source": [
    "print(classification_report(clf_w2v.predict(test_vecs_w2v),y_test_w2v))"
   ]
  },
  {
   "cell_type": "code",
   "execution_count": 107,
   "metadata": {},
   "outputs": [
    {
     "name": "stdout",
     "output_type": "stream",
     "text": [
      "building tf-idf matrix ...\n",
      "vocab size : 7037\n"
     ]
    }
   ],
   "source": [
    "print ('building tf-idf matrix ...')\n",
    "\n",
    "vectorizer = TfidfVectorizer(analyzer=lambda x: x, min_df=15,ngram_range=(1, 3),max_df = 1.0)\n",
    "matrix = vectorizer.fit_transform([x.words for x in x_train_w2v])\n",
    "tfidf2 = dict(zip(vectorizer.get_feature_names(), vectorizer.idf_))\n",
    "print ('vocab size :', len(tfidf2))"
   ]
  },
  {
   "cell_type": "code",
   "execution_count": null,
   "metadata": {},
   "outputs": [],
   "source": [
    "#tfidf2 = dict(zip(tfidf.get_feature_names(), tfidf.idf_))"
   ]
  },
  {
   "cell_type": "code",
   "execution_count": 108,
   "metadata": {},
   "outputs": [],
   "source": [
    "def buildWordVector(tokens, size):\n",
    "    vec = np.zeros(size).reshape((1, size))\n",
    "    count = 0.\n",
    "    for word in tokens:\n",
    "        try:\n",
    "            vec += w2v[word].reshape((1, size)) * tfidf2[word]\n",
    "            count += 1.\n",
    "        except KeyError: # handling the case where the token is not\n",
    "                         # in the corpus. useful for testing.\n",
    "            continue\n",
    "    if count != 0:\n",
    "        vec /= count\n",
    "    return vec"
   ]
  },
  {
   "cell_type": "code",
   "execution_count": 109,
   "metadata": {},
   "outputs": [
    {
     "name": "stderr",
     "output_type": "stream",
     "text": [
      "148437it [00:42, 3526.97it/s]\n",
      "63616it [00:17, 3545.33it/s]\n"
     ]
    }
   ],
   "source": [
    "from sklearn.preprocessing import scale\n",
    "train_vecs_w2v = np.concatenate([buildWordVector(z, 100) for z in tqdm(map(lambda x: x.words, x_train_w2v))])\n",
    "train_vecs_w2v = scale(train_vecs_w2v)\n",
    "\n",
    "test_vecs_w2v = np.concatenate([buildWordVector(z, 100) for z in tqdm(map(lambda x: x.words, x_test_w2v))])\n",
    "test_vecs_w2v = scale(test_vecs_w2v)"
   ]
  },
  {
   "cell_type": "code",
   "execution_count": 162,
   "metadata": {},
   "outputs": [],
   "source": [
    "clf_w2v = LogisticRegression(C = 0.1).fit(train_vecs_w2v, y_train_w2v)"
   ]
  },
  {
   "cell_type": "code",
   "execution_count": 190,
   "metadata": {},
   "outputs": [
    {
     "name": "stdout",
     "output_type": "stream",
     "text": [
      "              precision    recall  f1-score   support\n",
      "\n",
      "          -1       0.65      0.51      0.57     15807\n",
      "           0       0.25      0.00      0.01      5659\n",
      "           1       0.77      0.93      0.84     42150\n",
      "\n",
      "    accuracy                           0.74     63616\n",
      "   macro avg       0.55      0.48      0.47     63616\n",
      "weighted avg       0.69      0.74      0.70     63616\n",
      "\n"
     ]
    }
   ],
   "source": [
    "print(classification_report(y_test_w2v,clf_w2v.predict(test_vecs_w2v)))"
   ]
  },
  {
   "cell_type": "markdown",
   "metadata": {},
   "source": [
    "### Word2Vec with keras classifier (context independent)"
   ]
  },
  {
   "cell_type": "code",
   "execution_count": 164,
   "metadata": {},
   "outputs": [
    {
     "data": {
      "text/plain": [
       "<tensorflow.python.keras.callbacks.History at 0x7f8bf57b9f70>"
      ]
     },
     "execution_count": 164,
     "metadata": {},
     "output_type": "execute_result"
    }
   ],
   "source": [
    "model = Sequential()\n",
    "\n",
    "model.add(Dense(250, activation='relu',input_dim=100))\n",
    "model.add(BatchNormalization())\n",
    "model.add(Dropout(0.5))\n",
    "\n",
    "model.add(Dense(300,activation='relu'))\n",
    "model.add(BatchNormalization())\n",
    "model.add(Dropout(0.5))\n",
    "                \n",
    "model.add(Dense(300,activation='relu'))                \n",
    "model.add(BatchNormalization())\n",
    "model.add(Dropout(0.5))\n",
    "model.add(Dense(100,activation='relu'))\n",
    "model.add(Dense(1, activation='sigmoid'))\n",
    "\n",
    "# 3. Model compile\n",
    "model.compile(optimizer='adam', loss='binary_crossentropy', metrics=['accuracy'])\n",
    "model.fit(train_vecs_w2v, y_train_w2v, epochs=128, batch_size=32, verbose=0)"
   ]
  },
  {
   "cell_type": "code",
   "execution_count": 165,
   "metadata": {},
   "outputs": [
    {
     "name": "stdout",
     "output_type": "stream",
     "text": [
      "score: 0.6390058994293213\n"
     ]
    }
   ],
   "source": [
    "score = model.evaluate(test_vecs_w2v, y_test_w2v, batch_size=100, verbose=0)\n",
    "print(\"score: \" + str(score[1]))"
   ]
  },
  {
   "cell_type": "code",
   "execution_count": 166,
   "metadata": {},
   "outputs": [
    {
     "name": "stdout",
     "output_type": "stream",
     "text": [
      "score: 0.6479583978652954\n"
     ]
    }
   ],
   "source": [
    "score = model.evaluate(train_vecs_w2v, y_train_w2v, batch_size=50, verbose=0)\n",
    "print(\"score: \" + str(score[1]))"
   ]
  }
 ],
 "metadata": {
  "kernelspec": {
   "display_name": "Python 3",
   "language": "python",
   "name": "python3"
  },
  "language_info": {
   "codemirror_mode": {
    "name": "ipython",
    "version": 3
   },
   "file_extension": ".py",
   "mimetype": "text/x-python",
   "name": "python",
   "nbconvert_exporter": "python",
   "pygments_lexer": "ipython3",
   "version": "3.8.5"
  }
 },
 "nbformat": 4,
 "nbformat_minor": 4
}
